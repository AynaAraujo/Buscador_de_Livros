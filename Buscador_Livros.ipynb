{
  "cells": [
    {
      "cell_type": "markdown",
      "metadata": {
        "id": "view-in-github",
        "colab_type": "text"
      },
      "source": [
        "<a href=\"https://colab.research.google.com/github/AynaAraujo/Buscador_de_Livros/blob/main/Buscador_Livros.ipynb\" target=\"_parent\"><img src=\"https://colab.research.google.com/assets/colab-badge.svg\" alt=\"Open In Colab\"/></a>"
      ]
    },
    {
      "cell_type": "code",
      "execution_count": null,
      "metadata": {
        "id": "YqDR8wcW6c_0"
      },
      "outputs": [],
      "source": [
        "from google.colab import userdata\n",
        "GROQ_API = userdata.get('GROQ_API')"
      ]
    },
    {
      "cell_type": "code",
      "execution_count": null,
      "metadata": {
        "id": "aVXd4rjj7qIb"
      },
      "outputs": [],
      "source": [
        "!pip install -q llama-index llama-index-llms-groq"
      ]
    },
    {
      "cell_type": "markdown",
      "metadata": {
        "id": "gJCCewfyC2zl"
      },
      "source": [
        "#Aplicando LLamaIndex"
      ]
    },
    {
      "cell_type": "code",
      "execution_count": null,
      "metadata": {
        "id": "2qaOHfeM7qoa"
      },
      "outputs": [],
      "source": [
        "from llama_index.llms.groq import Groq\n",
        "#70B: Modelo com 70 bilhões de parâmetros\n",
        "#8192: Suporte a contexto de 8K tokens\n",
        "llm = Groq(model=\"llama3-70b-8192\",api_key=GROQ_API)"
      ]
    },
    {
      "cell_type": "code",
      "execution_count": null,
      "metadata": {
        "id": "CUpMwMVp7qre"
      },
      "outputs": [],
      "source": [
        "from llama_index.core.chat_engine import SimpleChatEngine"
      ]
    },
    {
      "cell_type": "code",
      "execution_count": null,
      "metadata": {
        "id": "k88T06tn7qvC"
      },
      "outputs": [],
      "source": [
        "#Setando nossa llm para ser o chatbot\n",
        "chat_engine = SimpleChatEngine.from_defaults(llm=llm)"
      ]
    },
    {
      "cell_type": "code",
      "execution_count": null,
      "metadata": {
        "id": "U-luH0kz9_xa"
      },
      "outputs": [],
      "source": [
        "#chat_engine.chat_repl()"
      ]
    },
    {
      "cell_type": "code",
      "execution_count": null,
      "metadata": {
        "colab": {
          "base_uri": "https://localhost:8080/"
        },
        "id": "B_Z_59D9-CpS",
        "outputId": "2a0aa1a7-e886-4042-a10b-de16ee582eeb"
      },
      "outputs": [
        {
          "data": {
            "text/plain": [
              "CompletionResponse(text='Eu estou aqui para ajudar com qualquer dúvida que você tenha sobre literatura!\\n\\nSeja sobre uma obra específica, um estilo literário, um autor ou uma época literária, sinta-se à vontade para perguntar. Estou preparado para ajudar a esclarecer suas dúvidas e fornecer informações adicionais para que você possa aprofundar seu conhecimento sobre literatura.\\n\\nQual é a sua dúvida literária?', additional_kwargs={'prompt_tokens': 24, 'completion_tokens': 102, 'total_tokens': 126}, raw=ChatCompletion(id='chatcmpl-f4a8e3e8-c01d-4187-8b3f-43788f6f20c8', choices=[Choice(finish_reason='stop', index=0, logprobs=None, message=ChatCompletionMessage(content='Eu estou aqui para ajudar com qualquer dúvida que você tenha sobre literatura!\\n\\nSeja sobre uma obra específica, um estilo literário, um autor ou uma época literária, sinta-se à vontade para perguntar. Estou preparado para ajudar a esclarecer suas dúvidas e fornecer informações adicionais para que você possa aprofundar seu conhecimento sobre literatura.\\n\\nQual é a sua dúvida literária?', refusal=None, role='assistant', annotations=None, audio=None, function_call=None, tool_calls=None))], created=1747096465, model='llama3-70b-8192', object='chat.completion', service_tier=None, system_fingerprint='fp_dd4ae1c591', usage=CompletionUsage(completion_tokens=102, prompt_tokens=24, total_tokens=126, completion_tokens_details=None, prompt_tokens_details=None, queue_time=0.212265711, prompt_time=0.000354465, completion_time=0.353364066, total_time=0.353718531), usage_breakdown={'models': None}, x_groq={'id': 'req_01jv3h0vw0eewsgeb0e6hst3kd'}), logprobs=None, delta=None)"
            ]
          },
          "execution_count": 70,
          "metadata": {},
          "output_type": "execute_result"
        }
      ],
      "source": [
        "llm.complete(\"Consegue me ajudar com dúvidas literárias?\")"
      ]
    },
    {
      "cell_type": "code",
      "execution_count": null,
      "metadata": {
        "id": "YhsbemR2-CsE"
      },
      "outputs": [],
      "source": [
        "resposta = llm.complete(\"Consegue me ajudar com dúvidas literárias?\").text"
      ]
    },
    {
      "cell_type": "code",
      "execution_count": null,
      "metadata": {
        "colab": {
          "base_uri": "https://localhost:8080/"
        },
        "id": "tSCRrdyu-CvB",
        "outputId": "76cbb475-8b72-4d14-d506-287d6a8c9a11"
      },
      "outputs": [
        {
          "name": "stdout",
          "output_type": "stream",
          "text": [
            "Eu estou aqui para ajudar com qualquer dúvida que você tenha sobre literatura!\n",
            "\n",
            "Seja sobre uma obra específica, um movimento literário, um autor ou autora, uma técnica literária, ou qualquer outro tópico relacionado à literatura, sinta-se à vontade para perguntar.\n",
            "\n",
            "Você pode me perguntar sobre a análise de um texto, sobre a interpretação de um personagem, sobre a estrutura de um romance, sobre a biografia de um autor, ou sobre qualquer outro assunto que lhe interesse.\n",
            "\n",
            "Estou aqui para ajudar e contribuir para o seu conhecimento e apreciação da literatura!\n"
          ]
        }
      ],
      "source": [
        "print(resposta)"
      ]
    },
    {
      "cell_type": "code",
      "execution_count": null,
      "metadata": {
        "id": "WaLScE-0-Cx7"
      },
      "outputs": [],
      "source": [
        "duvida_user = \"Recomende livros de romance que combinem clássicos e contemporâneos\""
      ]
    },
    {
      "cell_type": "code",
      "execution_count": null,
      "metadata": {
        "colab": {
          "base_uri": "https://localhost:8080/"
        },
        "id": "YqEZdx4N-C2m",
        "outputId": "67ee9ffc-1532-4e3a-b478-bd5f6ae1c32c"
      },
      "outputs": [
        {
          "name": "stdout",
          "output_type": "stream",
          "text": [
            "Que delícia! Aqui estão algumas recomendações de livros de romance que combinam clássicos e contemporâneos:\n",
            "\n",
            "**Clássicos**\n",
            "\n",
            "1. **Pride and Prejudice** de Jane Austen - Um romance clássico que continua a encantar leitores até hoje.\n",
            "2. **Jane Eyre** de Charlotte Brontë - Uma história de amor e auto-descoberta que permanece atual.\n",
            "3. **Wuthering Heights** de Emily Brontë - Um romance intenso e passionado que continua a inspirar adaptações e reinterpretações.\n",
            "\n",
            "**Contemporâneos**\n",
            "\n",
            "1. **The Hating Game** de Sally Thorne - Um romance contemporâneo que homenageia o estilo de Austen, com um toque de humor.\n",
            "2. **The Time Traveler's Wife** de Audrey Niffenegger - Uma história de amor que transcende o tempo, com um toque de fantasia.\n",
            "3. **Me Before You** de Jojo Moyes - Um romance emocional que explora temas como amor, perda e auto-descoberta.\n",
            "\n",
            "**Combinando Clássicos e contemporâneos**\n",
            "\n",
            "1. **Longbourn** de Jo Baker - Uma reinterpretação de **Pride and Prejudice** vista pela perspectiva das criadas da família Bennet.\n",
            "2. **Death Comes to Pemberley de P.D. James - Uma continuação de **Pride and Prejudice**, que combina romance, mistério e suspense.\n",
            "3. **The Madwoman Upstairs** de Catherine Lowell - Uma reinterpretação de **Jane Eyre**, que explora temas como identidade, literatura e amor.\n",
            "\n",
            "**Outras recomendações**\n",
            "\n",
            "1. **The Rosie Project** de Graeme Simsion - Um romance contemporâneo que homenageia o estilo de Austen, com um toque de humor.\n",
            "2. **Attachments** de Rainbow Rowell - Uma história de amor que se desenvolve por meio de e-mails e mensagens instantâneas.\n",
            "3. **Eleanor Oliphant is Completely Fine** de Gail Honeyman - Um romance contemporâneo que explora temas como solidão, amor e auto-descoberta.\n",
            "\n",
            "Espero que essas recomendações tenham ajudado!\n"
          ]
        }
      ],
      "source": [
        "resposta = llm.complete(duvida_user).text\n",
        "print(resposta)"
      ]
    },
    {
      "cell_type": "markdown",
      "metadata": {
        "id": "rkZu-xhOA0C7"
      },
      "source": [
        "Aqui podemos ver que o bot responde com todas suas informações de livros,MAS que não necessariamente estão na nossa base de dados.\n",
        "\n",
        "Por isso, precisamos achar uma forma de filtra-lo."
      ]
    },
    {
      "cell_type": "markdown",
      "metadata": {
        "id": "VwAH9J8E99qn"
      },
      "source": [
        "#Construindo Recomendações que existem na Base de Dados"
      ]
    },
    {
      "cell_type": "code",
      "execution_count": null,
      "metadata": {
        "id": "elZTPHK1AjJq"
      },
      "outputs": [],
      "source": [
        "import pandas as pd"
      ]
    },
    {
      "cell_type": "code",
      "execution_count": null,
      "metadata": {
        "colab": {
          "base_uri": "https://localhost:8080/"
        },
        "id": "EAOxk6JY5oLY",
        "outputId": "252e9291-39a9-4535-aa3c-58a0df64f19b"
      },
      "outputs": [
        {
          "name": "stdout",
          "output_type": "stream",
          "text": [
            "Drive already mounted at /content/drive; to attempt to forcibly remount, call drive.mount(\"/content/drive\", force_remount=True).\n"
          ]
        }
      ],
      "source": [
        "from google.colab import drive\n",
        "drive.mount('/content/drive')"
      ]
    },
    {
      "cell_type": "code",
      "execution_count": null,
      "metadata": {
        "id": "MT1W1RVUAjMm"
      },
      "outputs": [],
      "source": [
        "df = pd.read_csv('/content/drive/MyDrive/ALURA/RAG/LlamaIndex: integração de LLMs com bancos de dados vetoriais/CSV/livros_mais_vendidos.csv')"
      ]
    },
    {
      "cell_type": "code",
      "execution_count": null,
      "metadata": {
        "colab": {
          "base_uri": "https://localhost:8080/",
          "height": 293
        },
        "id": "3DztW74AAjPS",
        "outputId": "7ccac952-4526-4195-f7e3-7a7d49b28938"
      },
      "outputs": [
        {
          "data": {
            "application/vnd.google.colaboratory.intrinsic+json": {
              "summary": "{\n  \"name\": \"df\",\n  \"rows\": 175,\n  \"fields\": [\n    {\n      \"column\": \"nome\",\n      \"properties\": {\n        \"dtype\": \"string\",\n        \"num_unique_values\": 172,\n        \"samples\": [\n          \"A CORAGEM DE N\\u00c3O AGRADAR\",\n          \"B\\u00cdBLIA Z\\u00cdPER M\\u00c9DIA MARROM\",\n          \"CONHECENDO OS SONS DA FAZENDA: VAQUINHA\"\n        ],\n        \"semantic_type\": \"\",\n        \"description\": \"\"\n      }\n    },\n    {\n      \"column\": \"categoria\",\n      \"properties\": {\n        \"dtype\": \"category\",\n        \"num_unique_values\": 46,\n        \"samples\": [\n          \"Cristianismo\",\n          \"Aconselhamento\",\n          \"Categoria n\\u00e3o encontrada\"\n        ],\n        \"semantic_type\": \"\",\n        \"description\": \"\"\n      }\n    },\n    {\n      \"column\": \"sinopse\",\n      \"properties\": {\n        \"dtype\": \"string\",\n        \"num_unique_values\": 160,\n        \"samples\": [\n          \"As chamadas empresas unic\\u00f3rnios \\u2014 aquelas que atingem uma avalia\\u00e7\\u00e3o de mais de 1 bilh\\u00e3o de d\\u00f3lares \\u2014 s\\u00e3o raras.\\nUri Levine construiu duas. E neste livro, ele mostra como fez isso.Como cofundador do Waze, o principal aplicativo de transporte e navega\\u00e7\\u00e3o do mundo, com mais de 700 milh\\u00f5es de usu\\u00e1rios e adquirido pelo Google em 2013 por 1,15 bilh\\u00e3o de d\\u00f3lares, Levine est\\u00e1 empenhado em disseminar o pensamento empreendedor para que outros fundadores, gestores e colaboradores do setor tecnol\\u00f3gico possam construir suas pr\\u00f3prias empresas altamente valorizadas.\\nLevine oferece uma vis\\u00e3o interna da cria\\u00e7\\u00e3o e venda do Waze e de seu segundo unic\\u00f3rnio, o Moovit, revelando a f\\u00f3rmula que levou essas empresas a competir com gigantes e veteranos do setor.\\nApaixone-se pelo problema, n\\u00e3o pela solu\\u00e7\\u00e3o oferece orienta\\u00e7\\u00f5es valiosas de um dos empreendedores mais bem-sucedidos do mundo e capacita voc\\u00ea a ir al\\u00e9m e construir um neg\\u00f3cio de sucesso, identificando os maiores problemas de seus consumidores e dos mercados ineficientes que atualmente os atendem.\",\n          \"Um livro essencial e urgente, pois enquanto mulheres negras seguirem sendo alvo de constantes ataques, a humanidade toda corre perigo.\\n                \\n                \\n                \\n                    Quem tem medo do feminismo negro? re\\u00fane um longo ensaio autobiogr\\u00e1fico in\\u00e9dito e uma sele\\u00e7\\u00e3o de artigos publicados por Djamila Ribeiro no blog da revista CartaCapital, entre 2014 e 2017. No texto de abertura, a fil\\u00f3sofa e militante recupera mem\\u00f3rias de seus anos de inf\\u00e2ncia e adolesc\\u00eancia para discutir o que chama de \\u201csilenciamento\\u201d, processo de apagamento da personalidade por que passou e que \\u00e9 um dos muitos resultados perniciosos da discrimina\\u00e7\\u00e3o. Foi apenas no final da adolesc\\u00eancia, ao trabalhar na Casa de Cultura da Mulher Negra, que Djamila entrou em contato com autoras que a fizeram ter orgulho de suas ra\\u00edzes e n\\u00e3o mais querer se manter invis\\u00edvel. Desde ent\\u00e3o, o di\\u00e1logo com autoras como Chimamanda Ngozi Adichie, bell hooks, Sueli Carneiro, Alice Walker, Toni Morrison e Concei\\u00e7\\u00e3o Evaristo \\u00e9 uma constante.\\n                Muitos textos reagem a situa\\u00e7\\u00f5es do cotidiano \\u2014 o aumento da intoler\\u00e2ncia \\u00e0s religi\\u00f5es de matriz africana; os ataques a celebridades como Maju ou Serena Williams \\u2013 a partir das quais Djamila destrincha conceitos como empoderamento feminino ou interseccionalidade. Ela tamb\\u00e9m aborda temas como os limites da mobiliza\\u00e7\\u00e3o nas redes sociais, as pol\\u00edticas de cotas raciais e as origens do feminismo negro nos Estados Unidos e no Brasil, al\\u00e9m de discutir a obra de autoras de refer\\u00eancia para o feminismo, como Simone de Beauvoir.\",\n          \"O segundo volume da trilogia Assistente do Vil\\u00e3o, a fantasia divertida fen\\u00f4meno do TikTok\\n                \\n                \\n                AVISO \\u00c0 EQUIPE: Ultimamente tem havido um aumento perturbador nos comportamentos de felicidade, alegria e otimismo de maneira geral. Por favor, retome seus h\\u00e1bitos sombrios e amea\\u00e7adores o mais r\\u00e1pido poss\\u00edvel \\u2014 A ger\\u00eancia\\n                \\n                \\n                Evie Sage nunca esteve t\\u00e3o feliz de ser a assistente do Vil\\u00e3o. Quem poderia imaginar que trabalhar para um senhor do mal ridiculamente bonito (shhh, \\u00e9 ruim pra imagem dele) seria t\\u00e3o gratificante? Ainda assim, os neg\\u00f3cios do mal s\\u00e3o muito cansativos, as for\\u00e7as do bem s\\u00e3o irritantemente persistentes, e o chefe antes mencionado est\\u00e1... hm... fora do escrit\\u00f3rio.\\n                \\n                \\n                Mas Rennedawn est\\u00e1 afundado em problemas e tudo \\u2014 at\\u00e9 o Reinaldo \\u2014 aponta para uma cat\\u00e1strofe. Algo peculiar est\\u00e1 acontecendo com a magia do reino e fez o castelo do Vil\\u00e3o vulner\\u00e1vel aos inimigos... inclusive seu maior rival, o rei.\\n                \\n                \\n                Em \\n                Aprendiz do Vil\\u00e3o\\n                , Evie precisar\\u00e1 aprender novas habilidades para confrontar seu maior desafio: proteger o lar do Vil\\u00e3o, todos os seus trabalhos nefastos e, talvez (desde que ningu\\u00e9m descubra), o reino inteiro. Sem press\\u00e3o, Evie!\\n                \\n                \\n                Trai\\u00e7\\u00e3o. Manusear uma adaga. Conspirar com o inimigo. Tudo isso \\u00e9 t\\u00e3o... t\\u00e3o... maravilhosamente divertido. Mas o que acontece quando a assistente do Vil\\u00e3o est\\u00e1 pronta para se tornar sua aprendiz?\"\n        ],\n        \"semantic_type\": \"\",\n        \"description\": \"\"\n      }\n    },\n    {\n      \"column\": \"preco\",\n      \"properties\": {\n        \"dtype\": \"category\",\n        \"num_unique_values\": 57,\n        \"samples\": [\n          \"R$ 94,90\",\n          \"R$ 99,00\",\n          \"R$ 89,90\"\n        ],\n        \"semantic_type\": \"\",\n        \"description\": \"\"\n      }\n    }\n  ]\n}",
              "type": "dataframe",
              "variable_name": "df"
            },
            "text/html": [
              "\n",
              "  <div id=\"df-43d80fdc-9108-4b5b-8f24-4da5194a3f7d\" class=\"colab-df-container\">\n",
              "    <div>\n",
              "<style scoped>\n",
              "    .dataframe tbody tr th:only-of-type {\n",
              "        vertical-align: middle;\n",
              "    }\n",
              "\n",
              "    .dataframe tbody tr th {\n",
              "        vertical-align: top;\n",
              "    }\n",
              "\n",
              "    .dataframe thead th {\n",
              "        text-align: right;\n",
              "    }\n",
              "</style>\n",
              "<table border=\"1\" class=\"dataframe\">\n",
              "  <thead>\n",
              "    <tr style=\"text-align: right;\">\n",
              "      <th></th>\n",
              "      <th>nome</th>\n",
              "      <th>categoria</th>\n",
              "      <th>sinopse</th>\n",
              "      <th>preco</th>\n",
              "    </tr>\n",
              "  </thead>\n",
              "  <tbody>\n",
              "    <tr>\n",
              "      <th>0</th>\n",
              "      <td>É ASSIM QUE COMEÇA (EDIÇÃO DE COLECIONADOR)</td>\n",
              "      <td>Romances</td>\n",
              "      <td>Todo final tem um começo. Agora em uma edição ...</td>\n",
              "      <td>R$ 94,90</td>\n",
              "    </tr>\n",
              "    <tr>\n",
              "      <th>1</th>\n",
              "      <td>TUDO É RIO</td>\n",
              "      <td>Romances</td>\n",
              "      <td>NaN</td>\n",
              "      <td>R$ 71,39</td>\n",
              "    </tr>\n",
              "    <tr>\n",
              "      <th>2</th>\n",
              "      <td>VERITY (EDIÇÃO DE COLECIONADOR)</td>\n",
              "      <td>Suspenses</td>\n",
              "      <td>Um casal apaixonado. Uma intrusa. Três mentes ...</td>\n",
              "      <td>R$ 79,90</td>\n",
              "    </tr>\n",
              "    <tr>\n",
              "      <th>3</th>\n",
              "      <td>TÁTICAS DO AMOR</td>\n",
              "      <td>Romances</td>\n",
              "      <td>Febre no TikTok, comédia romântica narra a ami...</td>\n",
              "      <td>R$ 65,89</td>\n",
              "    </tr>\n",
              "    <tr>\n",
              "      <th>4</th>\n",
              "      <td>NEM TE CONTO</td>\n",
              "      <td>Romances</td>\n",
              "      <td>Da autora best seller do \\n                   ...</td>\n",
              "      <td>R$ 59,90</td>\n",
              "    </tr>\n",
              "  </tbody>\n",
              "</table>\n",
              "</div>\n",
              "    <div class=\"colab-df-buttons\">\n",
              "\n",
              "  <div class=\"colab-df-container\">\n",
              "    <button class=\"colab-df-convert\" onclick=\"convertToInteractive('df-43d80fdc-9108-4b5b-8f24-4da5194a3f7d')\"\n",
              "            title=\"Convert this dataframe to an interactive table.\"\n",
              "            style=\"display:none;\">\n",
              "\n",
              "  <svg xmlns=\"http://www.w3.org/2000/svg\" height=\"24px\" viewBox=\"0 -960 960 960\">\n",
              "    <path d=\"M120-120v-720h720v720H120Zm60-500h600v-160H180v160Zm220 220h160v-160H400v160Zm0 220h160v-160H400v160ZM180-400h160v-160H180v160Zm440 0h160v-160H620v160ZM180-180h160v-160H180v160Zm440 0h160v-160H620v160Z\"/>\n",
              "  </svg>\n",
              "    </button>\n",
              "\n",
              "  <style>\n",
              "    .colab-df-container {\n",
              "      display:flex;\n",
              "      gap: 12px;\n",
              "    }\n",
              "\n",
              "    .colab-df-convert {\n",
              "      background-color: #E8F0FE;\n",
              "      border: none;\n",
              "      border-radius: 50%;\n",
              "      cursor: pointer;\n",
              "      display: none;\n",
              "      fill: #1967D2;\n",
              "      height: 32px;\n",
              "      padding: 0 0 0 0;\n",
              "      width: 32px;\n",
              "    }\n",
              "\n",
              "    .colab-df-convert:hover {\n",
              "      background-color: #E2EBFA;\n",
              "      box-shadow: 0px 1px 2px rgba(60, 64, 67, 0.3), 0px 1px 3px 1px rgba(60, 64, 67, 0.15);\n",
              "      fill: #174EA6;\n",
              "    }\n",
              "\n",
              "    .colab-df-buttons div {\n",
              "      margin-bottom: 4px;\n",
              "    }\n",
              "\n",
              "    [theme=dark] .colab-df-convert {\n",
              "      background-color: #3B4455;\n",
              "      fill: #D2E3FC;\n",
              "    }\n",
              "\n",
              "    [theme=dark] .colab-df-convert:hover {\n",
              "      background-color: #434B5C;\n",
              "      box-shadow: 0px 1px 3px 1px rgba(0, 0, 0, 0.15);\n",
              "      filter: drop-shadow(0px 1px 2px rgba(0, 0, 0, 0.3));\n",
              "      fill: #FFFFFF;\n",
              "    }\n",
              "  </style>\n",
              "\n",
              "    <script>\n",
              "      const buttonEl =\n",
              "        document.querySelector('#df-43d80fdc-9108-4b5b-8f24-4da5194a3f7d button.colab-df-convert');\n",
              "      buttonEl.style.display =\n",
              "        google.colab.kernel.accessAllowed ? 'block' : 'none';\n",
              "\n",
              "      async function convertToInteractive(key) {\n",
              "        const element = document.querySelector('#df-43d80fdc-9108-4b5b-8f24-4da5194a3f7d');\n",
              "        const dataTable =\n",
              "          await google.colab.kernel.invokeFunction('convertToInteractive',\n",
              "                                                    [key], {});\n",
              "        if (!dataTable) return;\n",
              "\n",
              "        const docLinkHtml = 'Like what you see? Visit the ' +\n",
              "          '<a target=\"_blank\" href=https://colab.research.google.com/notebooks/data_table.ipynb>data table notebook</a>'\n",
              "          + ' to learn more about interactive tables.';\n",
              "        element.innerHTML = '';\n",
              "        dataTable['output_type'] = 'display_data';\n",
              "        await google.colab.output.renderOutput(dataTable, element);\n",
              "        const docLink = document.createElement('div');\n",
              "        docLink.innerHTML = docLinkHtml;\n",
              "        element.appendChild(docLink);\n",
              "      }\n",
              "    </script>\n",
              "  </div>\n",
              "\n",
              "\n",
              "    <div id=\"df-9c5004e7-b7ce-4316-aabc-7d340ba98e11\">\n",
              "      <button class=\"colab-df-quickchart\" onclick=\"quickchart('df-9c5004e7-b7ce-4316-aabc-7d340ba98e11')\"\n",
              "                title=\"Suggest charts\"\n",
              "                style=\"display:none;\">\n",
              "\n",
              "<svg xmlns=\"http://www.w3.org/2000/svg\" height=\"24px\"viewBox=\"0 0 24 24\"\n",
              "     width=\"24px\">\n",
              "    <g>\n",
              "        <path d=\"M19 3H5c-1.1 0-2 .9-2 2v14c0 1.1.9 2 2 2h14c1.1 0 2-.9 2-2V5c0-1.1-.9-2-2-2zM9 17H7v-7h2v7zm4 0h-2V7h2v10zm4 0h-2v-4h2v4z\"/>\n",
              "    </g>\n",
              "</svg>\n",
              "      </button>\n",
              "\n",
              "<style>\n",
              "  .colab-df-quickchart {\n",
              "      --bg-color: #E8F0FE;\n",
              "      --fill-color: #1967D2;\n",
              "      --hover-bg-color: #E2EBFA;\n",
              "      --hover-fill-color: #174EA6;\n",
              "      --disabled-fill-color: #AAA;\n",
              "      --disabled-bg-color: #DDD;\n",
              "  }\n",
              "\n",
              "  [theme=dark] .colab-df-quickchart {\n",
              "      --bg-color: #3B4455;\n",
              "      --fill-color: #D2E3FC;\n",
              "      --hover-bg-color: #434B5C;\n",
              "      --hover-fill-color: #FFFFFF;\n",
              "      --disabled-bg-color: #3B4455;\n",
              "      --disabled-fill-color: #666;\n",
              "  }\n",
              "\n",
              "  .colab-df-quickchart {\n",
              "    background-color: var(--bg-color);\n",
              "    border: none;\n",
              "    border-radius: 50%;\n",
              "    cursor: pointer;\n",
              "    display: none;\n",
              "    fill: var(--fill-color);\n",
              "    height: 32px;\n",
              "    padding: 0;\n",
              "    width: 32px;\n",
              "  }\n",
              "\n",
              "  .colab-df-quickchart:hover {\n",
              "    background-color: var(--hover-bg-color);\n",
              "    box-shadow: 0 1px 2px rgba(60, 64, 67, 0.3), 0 1px 3px 1px rgba(60, 64, 67, 0.15);\n",
              "    fill: var(--button-hover-fill-color);\n",
              "  }\n",
              "\n",
              "  .colab-df-quickchart-complete:disabled,\n",
              "  .colab-df-quickchart-complete:disabled:hover {\n",
              "    background-color: var(--disabled-bg-color);\n",
              "    fill: var(--disabled-fill-color);\n",
              "    box-shadow: none;\n",
              "  }\n",
              "\n",
              "  .colab-df-spinner {\n",
              "    border: 2px solid var(--fill-color);\n",
              "    border-color: transparent;\n",
              "    border-bottom-color: var(--fill-color);\n",
              "    animation:\n",
              "      spin 1s steps(1) infinite;\n",
              "  }\n",
              "\n",
              "  @keyframes spin {\n",
              "    0% {\n",
              "      border-color: transparent;\n",
              "      border-bottom-color: var(--fill-color);\n",
              "      border-left-color: var(--fill-color);\n",
              "    }\n",
              "    20% {\n",
              "      border-color: transparent;\n",
              "      border-left-color: var(--fill-color);\n",
              "      border-top-color: var(--fill-color);\n",
              "    }\n",
              "    30% {\n",
              "      border-color: transparent;\n",
              "      border-left-color: var(--fill-color);\n",
              "      border-top-color: var(--fill-color);\n",
              "      border-right-color: var(--fill-color);\n",
              "    }\n",
              "    40% {\n",
              "      border-color: transparent;\n",
              "      border-right-color: var(--fill-color);\n",
              "      border-top-color: var(--fill-color);\n",
              "    }\n",
              "    60% {\n",
              "      border-color: transparent;\n",
              "      border-right-color: var(--fill-color);\n",
              "    }\n",
              "    80% {\n",
              "      border-color: transparent;\n",
              "      border-right-color: var(--fill-color);\n",
              "      border-bottom-color: var(--fill-color);\n",
              "    }\n",
              "    90% {\n",
              "      border-color: transparent;\n",
              "      border-bottom-color: var(--fill-color);\n",
              "    }\n",
              "  }\n",
              "</style>\n",
              "\n",
              "      <script>\n",
              "        async function quickchart(key) {\n",
              "          const quickchartButtonEl =\n",
              "            document.querySelector('#' + key + ' button');\n",
              "          quickchartButtonEl.disabled = true;  // To prevent multiple clicks.\n",
              "          quickchartButtonEl.classList.add('colab-df-spinner');\n",
              "          try {\n",
              "            const charts = await google.colab.kernel.invokeFunction(\n",
              "                'suggestCharts', [key], {});\n",
              "          } catch (error) {\n",
              "            console.error('Error during call to suggestCharts:', error);\n",
              "          }\n",
              "          quickchartButtonEl.classList.remove('colab-df-spinner');\n",
              "          quickchartButtonEl.classList.add('colab-df-quickchart-complete');\n",
              "        }\n",
              "        (() => {\n",
              "          let quickchartButtonEl =\n",
              "            document.querySelector('#df-9c5004e7-b7ce-4316-aabc-7d340ba98e11 button');\n",
              "          quickchartButtonEl.style.display =\n",
              "            google.colab.kernel.accessAllowed ? 'block' : 'none';\n",
              "        })();\n",
              "      </script>\n",
              "    </div>\n",
              "\n",
              "    </div>\n",
              "  </div>\n"
            ],
            "text/plain": [
              "                                          nome  categoria  \\\n",
              "0  É ASSIM QUE COMEÇA (EDIÇÃO DE COLECIONADOR)   Romances   \n",
              "1                                   TUDO É RIO   Romances   \n",
              "2              VERITY (EDIÇÃO DE COLECIONADOR)  Suspenses   \n",
              "3                              TÁTICAS DO AMOR   Romances   \n",
              "4                                 NEM TE CONTO   Romances   \n",
              "\n",
              "                                             sinopse     preco  \n",
              "0  Todo final tem um começo. Agora em uma edição ...  R$ 94,90  \n",
              "1                                                NaN  R$ 71,39  \n",
              "2  Um casal apaixonado. Uma intrusa. Três mentes ...  R$ 79,90  \n",
              "3  Febre no TikTok, comédia romântica narra a ami...  R$ 65,89  \n",
              "4  Da autora best seller do \\n                   ...  R$ 59,90  "
            ]
          },
          "execution_count": 19,
          "metadata": {},
          "output_type": "execute_result"
        }
      ],
      "source": [
        "df.head()"
      ]
    },
    {
      "cell_type": "code",
      "execution_count": null,
      "metadata": {
        "id": "tgZPGlDtAjRq"
      },
      "outputs": [],
      "source": [
        "prompt = \"Só recomende livros dessa base de dados:\""
      ]
    },
    {
      "cell_type": "code",
      "execution_count": null,
      "metadata": {
        "id": "noRJfhAFAjVt"
      },
      "outputs": [],
      "source": [
        "for linha in df.values:\n",
        "  prompt += f\"\\n{linha[0]}\""
      ]
    },
    {
      "cell_type": "code",
      "execution_count": null,
      "metadata": {
        "colab": {
          "base_uri": "https://localhost:8080/"
        },
        "collapsed": true,
        "id": "q93O8N3BDQwR",
        "outputId": "547e4a72-bfd5-4719-ae6d-a966914c1af0"
      },
      "outputs": [
        {
          "name": "stdout",
          "output_type": "stream",
          "text": [
            "Só recomende livros dessa base de dados:\n",
            "É ASSIM QUE COMEÇA (EDIÇÃO DE COLECIONADOR)\n",
            "TUDO É RIO\n",
            "VERITY (EDIÇÃO DE COLECIONADOR)\n",
            "TÁTICAS DO AMOR\n",
            "NEM TE CONTO\n",
            "O BEIJO DA NEVE\n",
            "QUARTA ASA\n",
            "VÉSPERA\n",
            "A MANDÍBULA DE CAIM\n",
            "EU E ESSE MEU CORAÇÃO\n",
            "FOGO & SANGUE – VOLUME 1\n",
            "JANTAR SECRETO\n",
            "IMPERFEITOS\n",
            "TUDO SOBRE O AMOR - NOVAS PERSPECTIVAS\n",
            "É ASSIM QUE ACABA\n",
            "UMA SEGUNDA CHANCE (FENÔMENO DO TIKTOK)\n",
            "A HORA DA ESTRELA\n",
            "IMPOSTORA: YELLOWFACE\n",
            "CHAMA DE FERRO\n",
            "A EMPREGADA ESTÁ DE OLHO (A EMPREGADA – LIVRO 3)\n",
            "A GUERRA DA PAPOULA VOL.1\n",
            "ORAÇÃO PARA DESAPARECER\n",
            "UNICÓRNIOS - BORRACHAS DIVERTIDAS\n",
            "A BIBLIOTECA DA MEIA-NOITE\n",
            "A PACIENTE SILENCIOSA\n",
            "COMECE PELO PORQUÊ\n",
            "COMO CHEGAR AO SIM\n",
            "AS PRÁTICAS PARA A PROSPERIDADE DE O HOMEM MAIS RICO DA BABILÔNIA DE GEORGE S. CLASON\n",
            "STORYBRAND\n",
            "O INVESTIDOR INTELIGENTE\n",
            "O JOGO INFINITO\n",
            "O MAIOR VENDEDOR DO MUNDO\n",
            "O MONGE E O EXECUTIVO\n",
            "ANTIFRÁGIL (NOVA EDIÇÃO)\n",
            "MAESTRIA\n",
            "DEIXE DE SER POBRE\n",
            "ESSENCIALISMO\n",
            "OS 5 DESAFIOS DAS EQUIPES\n",
            "RÁPIDO E DEVAGAR\n",
            "CALMA SOB PRESSÃO\n",
            "ESSENCIALISMO\n",
            "O JEITO DISNEY DE ENCANTAR OS CLIENTES - EDIÇÃO ESPECIAL - 1ª EDIÇÃO 2023\n",
            "TRABALHE 4 HORAS POR SEMANA\n",
            "COMO CONVENCER ALGUÉM EM 90 SEGUNDOS\n",
            "DESCUBRA SEUS PONTOS FORTES 2.0\n",
            "O DIÁRIO DE UM CEO\n",
            "ALCANÇANDO EXCELÊNCIA EM VENDAS - SPIN SELLING\n",
            "NEGOCIE COMO SE SUA VIDA DEPENDESSE DISSO\n",
            "ROUBE COMO UM ARTISTA\n",
            "A ARTE DA SABEDORIA\n",
            "MALDITA GUERRA (NOVA EDIÇÃO)\n",
            "ISRAEL X PALESTINA\n",
            "QUANDO DEUS ERA MULHER\n",
            "A HISTÓRIA DA PRIMEIRA GUERRA MUNDIAL\n",
            "MULHERES, MITOS E DEUSAS\n",
            "ROMA\n",
            "OS PERSAS\n",
            "SAPIENS (NOVA EDIÇÃO)\n",
            "HISTÓRIA MEDIEVAL\n",
            "SEGREDOS DO IMPÉRIO ROMANO\n",
            "PALESTINA\n",
            "HISTÓRIA DO MEDO NO OCIDENTE, 1300-1800\n",
            "V13\n",
            "ARMAS, GERMES E AÇO\n",
            "1177 A.C.\n",
            "OS BESTIALIZADOS\n",
            "NEXUS\n",
            "AS VEIAS ABERTAS DA AMÉRICA LATINA\n",
            "HISTÓRIA DA BRUXARIA\n",
            "UMBANDAS: UMA HISTÓRIA DO BRASIL\n",
            "SPQR\n",
            "SOBRE O AUTORITARISMO BRASILEIRO\n",
            "RAÍZES DO BRASIL\n",
            "A DITADURA ACABADA\n",
            "OS NÁUFRAGOS DO WAGER\n",
            "DISCIPLINA É DESTINO\n",
            "CUIDAR ATÉ O FIM\n",
            "A CORAGEM DE NÃO AGRADAR\n",
            "NAÇÃO DOPAMINA\n",
            "DOPAMINA: A MOLÉCULA DO DESEJO\n",
            "O ANIMAL SOCIAL\n",
            "NADA PODE ME FERIR\n",
            "A CORAGEM DE SER IMPERFEITO\n",
            "O PALHAÇO E O PSICANALISTA\n",
            "QUEBRANDO O HÁBITO DE SER VOCÊ MESMO\n",
            "A SUTIL ARTE DE LIGAR O F*DA-SE\n",
            "12 REGRAS PARA A VIDA\n",
            "A MORTE É UM DIA QUE VALE A PENA VIVER\n",
            "VOCÊ PODE CURAR SUA VIDA\n",
            "HÁBITOS ATÔMICOS\n",
            "INTELIGÊNCIA EMOCIONAL\n",
            "TALVEZ VOCÊ DEVA CONVERSAR COM ALGUÉM\n",
            "NUNCA É HORA DE PARAR - LIBERTE SUA MENTE E\n",
            "CARTAS A UM JOVEM TERAPEUTA\n",
            "JARDIM SECRETO\n",
            "O EGO É SEU INIMIGO\n",
            "OS QUATRO COMPROMISSOS\n",
            "MAIS ESPERTO QUE O DIABO\n",
            "Nome não encontrado\n",
            "MANUAL DE PERSUASÃO DO FBI\n",
            "FRANCISCO DE ASSIS\n",
            "ED & LORRAINE WARREN: VIDAS ETERNAS\n",
            "O DIÁRIO DE ANNE FRANK (EDIÇÃO OFICIAL - LIVRO DE BOLSO)\n",
            "EM BUSCA DE MIM\n",
            "RITA LEE\n",
            "TUDO O QUE EU SEI SOBRE O AMOR\n",
            "SOM LIVRE\n",
            "CARTAS DE J.R.R. TOLKIEN\n",
            "LEBRON\n",
            "EU SEI POR QUE O PÁSSARO CANTA NA GAIOLA\n",
            "O INDOMÁVEL: JOÃO CARLOS MARTINS ENTRE SOM E SILÊNCIO\n",
            "SE NÃO EU, QUEM VAI FAZER VOCÊ FELIZ?\n",
            "NOTAS SOBRE O LUTO\n",
            "RITA LEE\n",
            "O REI DOS DIVIDENDOS\n",
            "GENTE PEQUENA, GRANDES SONHOS. AYRTON SENNA\n",
            "ALMA FERIDA, ALMA CURADA\n",
            "ELON MUSK\n",
            "APAIXONE-SE PELO PROBLEMA, NÃO PELA SOLUÇÃO\n",
            "ESTRANHOS A NÓS MESMOS\n",
            "QUARTO DE DESPEJO - EDIÇÃO COMEMORATIVA\n",
            "QUEM TEM MEDO DO FEMINISMO NEGRO?\n",
            "AYRTON SENNA: UMA LENDA A TODA VELOCIDADE\n",
            "WALDEN, OU A VIDA NOS BOSQUES\n",
            "O LUGAR\n",
            "PLENITUDE\n",
            "BÍBLIA THOMAS NELSON PARA CRIANÇAS - VERSÃO GIFT\n",
            "Nome não encontrado\n",
            "LITURGIA DO ORDINÁRIO\n",
            "DOZE HOMENS EXTRAORDINARIAMENTE COMUNS - REPACK\n",
            "BÍBLIA NVI, CAPA DURA, AZUL, ECONÔMICA, TULIPA\n",
            "ORAR FAZ MUITO BEM!\n",
            "JOURNAL DA GAROTA CORAJOSA\n",
            "CONFISSÕES\n",
            "BÍBLIA INFANTIL\n",
            "CARTAS DE UM DIABO A SEU APRENDIZ\n",
            "A BÍBLIA EM 52 SEMANAS\n",
            "BEM-VINDO, ESPÍRITO SANTO\n",
            "O CUIDADO DO CORPO\n",
            "O PESO DA GLÓRIA\n",
            "MANSO E HUMILDE\n",
            "BÍBLIA ZÍPER MÉDIA MARROM\n",
            "JESUS\n",
            "JESUS, O MAIOR PSICÓLOGO QUE JÁ EXISTIU\n",
            "CAFÉ COM DEUS PAI 2025\n",
            "CLÁSSICOS SELECIONADOS C. S. LEWIS\n",
            "CRISTIANISMO PURO E SIMPLES\n",
            "MEDIUNIDADE NA UMBANDA\n",
            "BÍBLIA DEVOCIONAL DA PRINCESINHA\n",
            "O DEUS QUE DESTRÓI SONHOS\n",
            "MIL VEZES AMOR\n",
            "AMÊNDOAS\n",
            "FISHER-PRICE - QUANDO ESTOU...\n",
            "O DIÁRIO DE UMA PRINCESA DESASTRADA 2 - O SEGREDO\n",
            "PERIGOSO!\n",
            "CONHECENDO OS SONS DA FAZENDA: VAQUINHA\n",
            "APRENDIZ DO VILÃO\n",
            "OS ÚLTIMOS JOVENS DA TERRA\n",
            "MELHOR DO QUE NOS FILMES\n",
            "ALICE NO PAÍS DAS MARAVILHAS (CLASSIC EDITION)\n",
            "POWERLESS\n",
            "O DIÁRIO DE UMA PRINCESA DESASTRADA\n",
            "A FÚRIA DA DEUSA TRÍPLICE\n",
            "QUEM SOLTOU O PUM?\n",
            "DIÁRIO DE UM BANANA 2\n",
            "ASSISTENTE DO VILÃO (SUCESSO NO TIKTOK)\n",
            "AMOR & GELATO\n",
            "PROMESSAS CRUÉIS (SUCESSO NO TIKTOK)\n",
            "CORALINE\n",
            "AS AVENTURAS DE MIKE 2\n",
            "MEU DIÁRIO MÁGICO\n",
            "ERA UMA VEZ UM CORAÇÃO PARTIDO (SUCESSO DO TIKTOK)\n",
            "AS AVENTURAS DE MIKE 3: MUDANDO DE CASA\n",
            "TURMA DA MÔNICA - BIBLIOTECA DE BOAS MANEIRAS\n",
            "HEARTSTOPPER (VOL. 5)\n"
          ]
        }
      ],
      "source": [
        "print(prompt)"
      ]
    },
    {
      "cell_type": "code",
      "execution_count": null,
      "metadata": {
        "colab": {
          "base_uri": "https://localhost:8080/"
        },
        "id": "Blc8P9WMI-jH",
        "outputId": "f8893cb3-286a-420e-da3a-fe0b0b328ffc"
      },
      "outputs": [
        {
          "name": "stdout",
          "output_type": "stream",
          "text": [
            "Aqui vão algumas sugestões de livros de romance que combinam clássicos e contemporâneos:\n",
            "\n",
            "**Clássicos**\n",
            "\n",
            "1. \"Roma\" de Edith Wharton - Um romance histórico que explora a sociedade de Nova York no início do século XX.\n",
            "2. \"O Jardim Secreto\" de Frances Hodgson Burnett - Um romance clássico sobre amor, perda e crescimento.\n",
            "3. \"Walden, ou a Vida nos Bosques\" de Henry David Thoreau - Uma reflexão sobre a vida simples e a busca pela felicidade.\n",
            "\n",
            "**Contemporâneos**\n",
            "\n",
            "1. \"É Assim que Começa\" de Colleen Hoover - Um romance emocional que explora temas como amor, perda e segunda chances.\n",
            "2. \"Verity\" de Colleen Hoover - Um romance psicológico que explora a complexidade das relações humanas.\n",
            "3. \"Tudo é Rio\" de - Um romance que explora a vida em uma grande cidade e as complexidades do amor.\n",
            "\n",
            "**Outras sugestões**\n",
            "\n",
            "1. \"A Hora da Estrela\" de Clarice Lispector - Um romance que explora a vida de uma mulher em busca de sua identidade.\n",
            "2. \"Eu e Esse Meu Coração\" de - Um romance que explora a complexidade do amor e as relações humanas.\n",
            "3. \"FOGO & SANGUE – VOLUME 1\" de - Um romance que explora a vida em uma sociedade medieval e as complexidades do amor.\n",
            "\n",
            "Essas são apenas algumas sugestões, mas há muitos outros livros de romance que você pode gostar!\n"
          ]
        }
      ],
      "source": [
        "#FILTRA A RESPOSTA DA LLM PELA BASE DE DADOS OFERECIDA\n",
        "#RAG: RETRIVEVAL ARGUMENTED GENERETION\n",
        "resposta = llm.complete(prompt + duvida_user).text\n",
        "print(resposta)"
      ]
    },
    {
      "cell_type": "markdown",
      "metadata": {
        "id": "9F4CckcaKClC"
      },
      "source": [
        "###**RAG**:\n",
        "\n",
        "\n",
        "\n",
        "*  É uma abordagem que combina modelos de linguagem de larga escala (LLMs) com sistemas de recuperação de informações (retrieval systems).\n",
        "*  O objetivo é aprimorar a geração de texto, permitindo que os modelos acessem e utilizem dados externos em tempo real durante a resposta, reduzindo a dependência exclusiva do conhecimento pré-treinado.\n",
        "\n"
      ]
    },
    {
      "cell_type": "code",
      "execution_count": null,
      "metadata": {
        "id": "tmo2Dmh8JK12"
      },
      "outputs": [],
      "source": [
        "#Estrutura da resposta desejada\n",
        "prompt = \"\"\"\n",
        "Somente responda em json\n",
        "Formato resposta em json\n",
        "[data:{\n",
        "  \"livros\": [\n",
        "    {\n",
        "      \"titulo\": \"Titulo do livro\n",
        "      \"categoria\": \"Categoria do livro\"\n",
        "      \"Justificativa\" \"Porque recomenda\"\n",
        "    }\n",
        "  ]\n",
        "}]\n",
        "Só recomende livros dessa base de dados:\n",
        "\"\"\""
      ]
    },
    {
      "cell_type": "code",
      "execution_count": null,
      "metadata": {
        "id": "ys5P-qzkJK4p"
      },
      "outputs": [],
      "source": [
        "for linha in df.values:\n",
        "  prompt += f\"\\n{linha[0]}\""
      ]
    },
    {
      "cell_type": "code",
      "execution_count": null,
      "metadata": {
        "id": "YtEu6tCrMRSd"
      },
      "outputs": [],
      "source": [
        "entrada_user = \"Recomende livros de romance que combinem clássicos e contemporâneos\""
      ]
    },
    {
      "cell_type": "code",
      "execution_count": null,
      "metadata": {
        "colab": {
          "base_uri": "https://localhost:8080/"
        },
        "id": "4jrYkSopJK7c",
        "outputId": "d505c2f1-d9d9-4fae-c598-21a4b62c6af5"
      },
      "outputs": [
        {
          "name": "stdout",
          "output_type": "stream",
          "text": [
            "{\n",
            "\"data\": {\n",
            "\"livros\": [\n",
            "{\n",
            "\"titulo\": \"ASSIM QUE COMEÇA\",\n",
            "\"categoria\": \"Romance\",\n",
            "\"Justificativa\": \"Um clássico de romance que emociona e inspira\"\n",
            "},\n",
            "{\n",
            "\"titulo\": \"TUDO É RIO\",\n",
            "\"categoria\": \"Romance\",\n",
            "\"Justificativa\": \"Um romance contemporâneo que explora a vida em uma grande cidade\"\n",
            "},\n",
            "{\n",
            "\"titulo\": \"VERITY\",\n",
            "\"categoria\": \"Romance\",\n",
            "\"Justificativa\": \"Um romance psicológico que explora a mente humana\"\n",
            "},\n",
            "{\n",
            "\"titulo\": \"EU E ESSE MEU CORAÇÃO\",\n",
            "\"categoria\": \"Romance\",\n",
            "\"Justificativa\": \"Um romance que explora a vida amorosa e as relações\"\n",
            "},\n",
            "{\n",
            "\"titulo\": \"FOGO & SANGUE\",\n",
            "\"categoria\": \"Romance\",\n",
            "\"Justificativa\": \"Um romance épico que explora a paixão e a luta\"\n",
            "},\n",
            "{\n",
            "\"titulo\": \"JANTAR SECRETO\",\n",
            "\"categoria\": \"Romance\",\n",
            "\"Justificativa\": \"Um romance que explora a vida e as relações\"\n",
            "},\n",
            "{\n",
            "\"titulo\": \"IMPERFEITOS\",\n",
            "\"categoria\": \"Romance\",\n",
            "\"Justificativa\": \"Um romance que explora a vida amorosa e as relações\"\n",
            "},\n",
            "{\n",
            "\"titulo\": \"É ASSIM QUE ACABA\",\n",
            "\"categoria\": \"Romance\",\n",
            "\"Justificativa\": \"Um romance que explora a vida amorosa e as relações\"\n",
            "}\n",
            "]\n",
            "}\n",
            "}\n"
          ]
        }
      ],
      "source": [
        "resposta = llm.complete(prompt + entrada_user).text\n",
        "print(resposta)"
      ]
    },
    {
      "cell_type": "code",
      "execution_count": null,
      "metadata": {
        "id": "oN29adeoaZ92"
      },
      "outputs": [],
      "source": [
        "import json"
      ]
    },
    {
      "cell_type": "code",
      "execution_count": null,
      "metadata": {
        "id": "2mw9dPcpaaID"
      },
      "outputs": [],
      "source": [
        "resposta_json = json.loads(resposta)"
      ]
    },
    {
      "cell_type": "code",
      "execution_count": null,
      "metadata": {
        "colab": {
          "base_uri": "https://localhost:8080/",
          "height": 35
        },
        "id": "bba3FqKvafqI",
        "outputId": "19a719c9-6315-4b9e-e1c4-8be671cd2cda"
      },
      "outputs": [
        {
          "data": {
            "application/vnd.google.colaboratory.intrinsic+json": {
              "type": "string"
            },
            "text/plain": [
              "'ASSIM QUE COMEÇA'"
            ]
          },
          "execution_count": 30,
          "metadata": {},
          "output_type": "execute_result"
        }
      ],
      "source": [
        "resposta_json['data']['livros'][0]['titulo']"
      ]
    },
    {
      "cell_type": "code",
      "execution_count": null,
      "metadata": {
        "colab": {
          "base_uri": "https://localhost:8080/"
        },
        "id": "GQTMTRh5am5W",
        "outputId": "d711f7ef-a556-421b-ad9f-e00a9b5d3bbd"
      },
      "outputs": [
        {
          "name": "stdout",
          "output_type": "stream",
          "text": [
            "Livro ASSIM QUE COMEÇA não encontrado\n",
            "Livro VERITY não encontrado\n",
            "Livro FOGO & SANGUE não encontrado\n"
          ]
        }
      ],
      "source": [
        "for livro in resposta_json['data']['livros']:\n",
        "  titulo = livro['titulo'].upper()\n",
        "  if df.query(\"nome == @titulo\").empty:\n",
        "    print(f\"Livro {titulo} não encontrado\")"
      ]
    },
    {
      "cell_type": "markdown",
      "metadata": {
        "id": "xZye0Xc-ckoR"
      },
      "source": [
        "###Restaura resposta"
      ]
    },
    {
      "cell_type": "code",
      "execution_count": null,
      "metadata": {
        "id": "GORuk1RrbjTv"
      },
      "outputs": [],
      "source": [
        "resposta_json = json.loads(resposta)"
      ]
    },
    {
      "cell_type": "code",
      "execution_count": null,
      "metadata": {
        "id": "ykP-3m85grNh"
      },
      "outputs": [],
      "source": [
        "for linha in df.values:\n",
        "  prompt += f\"\\n{linha}\""
      ]
    },
    {
      "cell_type": "code",
      "execution_count": null,
      "metadata": {
        "id": "FIuI6dvtgrQx"
      },
      "outputs": [],
      "source": [
        "# resposta = llm.complete(prompt + entrada_user).text\n",
        "# print(resposta)"
      ]
    },
    {
      "cell_type": "markdown",
      "metadata": {
        "id": "x7VtHKv6lElB"
      },
      "source": [
        "###**Split e Summarizing**\n",
        "\n",
        "\n",
        "*   **Split:**Processo de dividir textos longos em partes menores para que possam ser processados de maneira eficiente por modelos de linguagem, como o Llama3-70b-8192, que possui limites no número de tokens (8192).\n",
        "*   **Summarizing:**Processo de gerar um resumo conciso de um texto, mantendo as informações mais relevantes e descartando detalhes menos importantes.\n",
        "\n",
        "\n"
      ]
    },
    {
      "cell_type": "markdown",
      "metadata": {
        "id": "-EMhywY6vAm4"
      },
      "source": [
        "**Split Base de Dados:**"
      ]
    },
    {
      "cell_type": "code",
      "execution_count": null,
      "metadata": {
        "id": "zrusHSvgtEfW"
      },
      "outputs": [],
      "source": [
        "#Definindo tamanho do Chunk\n",
        "chunk_size = 10\n",
        "#Dividindo a base de livros em chunks menores de tam chunk_size\n",
        "chunks = [df.iloc[i:i + chunk_size] for i in range(0, len(df), chunk_size)]"
      ]
    },
    {
      "cell_type": "markdown",
      "metadata": {
        "id": "j99IDTqhvG2z"
      },
      "source": [
        "**Summarizing dos Chunks:**"
      ]
    },
    {
      "cell_type": "code",
      "execution_count": null,
      "metadata": {
        "id": "poO5yjlpt5hz"
      },
      "outputs": [],
      "source": [
        "summarizing_prompt = \"\"\"\n",
        "Resuma o seguinte conjunto de dados de livros em uma descrição breve que destaque os gêneros principais:\n",
        "Conjunto de dados:\n",
        "   \"\"\"\n",
        "resumos = []\n",
        "\n",
        "#Percorre cada chunk dos chunks para resumi-los\n",
        "for i, chunk in enumerate(chunks):\n",
        "    #Comando completo para resumir cada chunk\n",
        "    prompt = summarizing_prompt + \"\\n\".join(chunk['nome'].values)\n",
        "    #LLM divide\n",
        "    resposta = llm.complete(prompt=prompt).text.strip()\n",
        "    resumos.append({\"chunk_index\": i, \"resumo\": resposta})"
      ]
    },
    {
      "cell_type": "markdown",
      "metadata": {
        "id": "mIhYYXy8ah5Y"
      },
      "source": [
        "**Selecionando Chunks Relevantes**"
      ]
    },
    {
      "cell_type": "code",
      "execution_count": null,
      "metadata": {
        "id": "ifC-Zgc3uCeW"
      },
      "outputs": [],
      "source": [
        "import json\n",
        "#Comando\n",
        "relevance_prompt = \"\"\"\n",
        "Com base nos resumos abaixo, selecione os chunks mais relevantes para \"Recomende livros de romance\".\n",
        "Retorne a resposta exclusivamente no seguinte formato JSON (não inclua explicações adicionais ou comentários):\n",
        "\n",
        "{\n",
        "  \"relevantes\": [índices]\n",
        "}\n",
        "\n",
        "Os índices devem corresponder aos números dos chunks mencionados nos resumos.\n",
        "\"\"\"\n",
        "#Pega cada resumo\n",
        "resumo_texto = \"\\n\".join([f\"Chunk {r['chunk_index']}: {r['resumo']}\" for r in resumos])\n",
        "#Seleciona os importantes\n",
        "relevantes_resposta = llm.complete(prompt=relevance_prompt + resumo_texto).text.strip()\n",
        "#Salva num JSON\n",
        "relevantes_json = json.loads(relevantes_resposta)\n",
        "#Transforma numa lista\n",
        "chunks_relevantes = [chunks[i] for i in relevantes_json['relevantes']]"
      ]
    },
    {
      "cell_type": "markdown",
      "metadata": {
        "id": "ugL54ZbKbeWI"
      },
      "source": [
        "**Recomendação Final**"
      ]
    },
    {
      "cell_type": "code",
      "execution_count": null,
      "metadata": {
        "id": "n8Gp_TL8bDqn"
      },
      "outputs": [],
      "source": [
        "recomendacao_prompt = \"\"\"\n",
        "Recomende livros de romance\n",
        "Somente responda em JSON no formato não escreva mais nada:\n",
        "[data: {\n",
        "  \"livros\": [\n",
        "    {\n",
        "      \"titulo\": \"Titulo do livro\",\n",
        "      \"categoria\": \"Categoria do livro\",\n",
        "      \"justificativa\": \"Por que recomenda\"\n",
        "    }\n",
        "  ]\n",
        "}]\n",
        "\"\"\"\n",
        "\n",
        "resultados = []\n",
        "\n",
        "for chunk in chunks_relevantes:\n",
        "    prompt = recomendacao_prompt + \"\\n\".join(chunk['nome'].values)\n",
        "    resposta = llm.complete(prompt=prompt).text.strip()\n",
        "    resposta_json = json.loads(resposta)\n",
        "    resultados.extend(resposta_json['data']['livros'])"
      ]
    },
    {
      "cell_type": "code",
      "execution_count": null,
      "metadata": {
        "colab": {
          "base_uri": "https://localhost:8080/"
        },
        "collapsed": true,
        "id": "NUyIlV86bbyn",
        "outputId": "ff5b93bc-c8d7-40c8-cfbc-5a709a586cdd"
      },
      "outputs": [
        {
          "data": {
            "text/plain": [
              "[{'titulo': 'É ASSIM QUE COMEÇA (EDIÇÃO DE COLECIONADOR)',\n",
              "  'categoria': 'Romance',\n",
              "  'justificativa': 'Um livro que nos faz refletir sobre o amor e a vida.'},\n",
              " {'titulo': 'TUDO É RIO)',\n",
              "  'categoria': 'Romance',\n",
              "  'justificativa': 'Um livro que nos leva a uma viagem pelo Rio de Janeiro e seus personagens.'},\n",
              " {'titulo': 'VERITY (EDIÇÃO DE COLECIONADOR)',\n",
              "  'categoria': 'Romance Psicológico',\n",
              "  'justificativa': 'Um livro que nos faz questionar a verdade e a mentira em um relacionamento.'},\n",
              " {'titulo': 'TÁTICAS DO AMOR',\n",
              "  'categoria': 'Romance',\n",
              "  'justificativa': 'Um livro que nos faz rir e refletir sobre as táticas do amor.'},\n",
              " {'titulo': 'NEM TE CONTO',\n",
              "  'categoria': 'Romance',\n",
              "  'justificativa': 'Um livro que nos faz refletir sobre as escolhas que fazemos na vida.'},\n",
              " {'titulo': 'O BEIJO DA NEVE',\n",
              "  'categoria': 'Romance',\n",
              "  'justificativa': 'Um livro que nos faz sonhar com um amor puro e verdadeiro.'},\n",
              " {'titulo': 'QUARTA ASA',\n",
              "  'categoria': 'Romance',\n",
              "  'justificativa': 'Um livro que nos faz refletir sobre a importância da família e do amor.'},\n",
              " {'titulo': 'VÉSPERA',\n",
              "  'categoria': 'Romance',\n",
              "  'justificativa': 'Um livro que nos faz refletir sobre a importância do amor e da família.'},\n",
              " {'titulo': 'A MANDÍBULA DE CAIM',\n",
              "  'categoria': 'Romance',\n",
              "  'justificativa': 'Um livro que nos faz refletir sobre a importância do amor e da família.'},\n",
              " {'titulo': 'EU E ESSE MEU CORAÇÃO',\n",
              "  'categoria': 'Romance',\n",
              "  'justificativa': 'Um livro que nos faz refletir sobre a importância do amor próprio.'},\n",
              " {'titulo': 'FOGO & SANGUE',\n",
              "  'categoria': 'Fantasia Romântica',\n",
              "  'justificativa': 'Uma história de amor proibido e paixão intensa que vai te levar a uma jornada emocionante'},\n",
              " {'titulo': 'JANTAR SECRETO',\n",
              "  'categoria': 'Romance Contemporâneo',\n",
              "  'justificativa': 'Um livro que vai te fazer refletir sobre a vida, o amor e as escolhas que fazemos'},\n",
              " {'titulo': 'IMPERFEITOS',\n",
              "  'categoria': 'Romance New Adult',\n",
              "  'justificativa': 'Uma história sobre o amor imperfeito, mas que nos faz sentir vivos'},\n",
              " {'titulo': 'TUDO SOBRE O AMOR - NOVAS PERSPECTIVAS',\n",
              "  'categoria': 'Romance Contemporâneo',\n",
              "  'justificativa': 'Um livro que vai te fazer repensar sobre o amor e as relações'},\n",
              " {'titulo': 'É ASSIM QUE ACABA',\n",
              "  'categoria': 'Romance Contemporâneo',\n",
              "  'justificativa': 'Uma história sobre o amor, a perda e a superação'},\n",
              " {'titulo': 'UMA SEGUNDA CHANCE (FENÔMENO DO TIKTOK)',\n",
              "  'categoria': 'Romance Contemporâneo',\n",
              "  'justificativa': 'Um livro que vai te fazer acreditar no poder do amor e da segunda chance'},\n",
              " {'titulo': 'A HORA DA ESTRELA',\n",
              "  'categoria': 'Romance Fantástico',\n",
              "  'justificativa': 'Uma história sobre o amor, a fantasia e a auto-descoberta'},\n",
              " {'titulo': 'IMPOSTORA: YELLOWFACE',\n",
              "  'categoria': 'Romance Contemporâneo',\n",
              "  'justificativa': 'Um livro que vai te fazer refletir sobre a identidade, a cultura e o amor'},\n",
              " {'titulo': 'CHAMA DE FERRO',\n",
              "  'categoria': 'Fantasia Romântica',\n",
              "  'justificativa': 'Uma história sobre o amor, a magia e a auto-descoberta'},\n",
              " {'titulo': 'A EMPREGADA ESTÁ DE OLHO (A EMPREGADA – LIVRO 3)',\n",
              "  'categoria': 'Romance Contemporâneo',\n",
              "  'justificativa': 'Um livro que vai te fazer rir, chorar e acreditar no poder do amor'},\n",
              " {'titulo': 'TUDO O QUE EU SEI SOBRE O AMOR',\n",
              "  'categoria': 'Romance',\n",
              "  'justificativa': 'Um livro que explora os sentimentos e emoções humanas de forma profunda e sincera.'},\n",
              " {'titulo': 'SOM LIVRE',\n",
              "  'categoria': 'Romance',\n",
              "  'justificativa': 'Um romance que celebra a liberdade e a busca pela felicidade.'},\n",
              " {'titulo': 'EM BUSCA DE MIM',\n",
              "  'categoria': 'Romance',\n",
              "  'justificativa': 'Um livro que explora a sua identidade e sua busca por amor e aceitação.'},\n",
              " {'titulo': 'ERA UMA VEZ UM CORAÇÃO PARTIDO',\n",
              "  'categoria': 'Romance',\n",
              "  'justificativa': 'Um romance emocionante e intenso que vai fazer você se apaixonar pelos personagens.'},\n",
              " {'titulo': 'HEARTSTOPPER (VOL. 5)',\n",
              "  'categoria': 'Romance LGBTQ+',\n",
              "  'justificativa': 'Uma série que vai fazer você se emocionar e se apaixonar pelos personagens, com uma história linda e cheia de amor.'}]"
            ]
          },
          "execution_count": 39,
          "metadata": {},
          "output_type": "execute_result"
        }
      ],
      "source": [
        "resultados"
      ]
    },
    {
      "cell_type": "markdown",
      "metadata": {
        "id": "Cg6ePGl-gKk_"
      },
      "source": [
        "#Criando Base Vetorial"
      ]
    },
    {
      "cell_type": "code",
      "execution_count": null,
      "metadata": {
        "colab": {
          "base_uri": "https://localhost:8080/"
        },
        "id": "d5JePFrFgMh9",
        "outputId": "44574665-657c-47e5-b8a1-721cfa849d31"
      },
      "outputs": [
        {
          "name": "stdout",
          "output_type": "stream",
          "text": [
            "\u001b[2K   \u001b[90m━━━━━━━━━━━━━━━━━━━━━━━━━━━━━━━━━━━━━━━━\u001b[0m \u001b[32m363.4/363.4 MB\u001b[0m \u001b[31m3.4 MB/s\u001b[0m eta \u001b[36m0:00:00\u001b[0m\n",
            "\u001b[2K   \u001b[90m━━━━━━━━━━━━━━━━━━━━━━━━━━━━━━━━━━━━━━━━\u001b[0m \u001b[32m13.8/13.8 MB\u001b[0m \u001b[31m61.9 MB/s\u001b[0m eta \u001b[36m0:00:00\u001b[0m\n",
            "\u001b[2K   \u001b[90m━━━━━━━━━━━━━━━━━━━━━━━━━━━━━━━━━━━━━━━━\u001b[0m \u001b[32m24.6/24.6 MB\u001b[0m \u001b[31m34.4 MB/s\u001b[0m eta \u001b[36m0:00:00\u001b[0m\n",
            "\u001b[2K   \u001b[90m━━━━━━━━━━━━━━━━━━━━━━━━━━━━━━━━━━━━━━━━\u001b[0m \u001b[32m883.7/883.7 kB\u001b[0m \u001b[31m39.5 MB/s\u001b[0m eta \u001b[36m0:00:00\u001b[0m\n",
            "\u001b[2K   \u001b[90m━━━━━━━━━━━━━━━━━━━━━━━━━━━━━━━━━━━━━━━━\u001b[0m \u001b[32m664.8/664.8 MB\u001b[0m \u001b[31m1.3 MB/s\u001b[0m eta \u001b[36m0:00:00\u001b[0m\n",
            "\u001b[2K   \u001b[90m━━━━━━━━━━━━━━━━━━━━━━━━━━━━━━━━━━━━━━━━\u001b[0m \u001b[32m211.5/211.5 MB\u001b[0m \u001b[31m5.9 MB/s\u001b[0m eta \u001b[36m0:00:00\u001b[0m\n",
            "\u001b[2K   \u001b[90m━━━━━━━━━━━━━━━━━━━━━━━━━━━━━━━━━━━━━━━━\u001b[0m \u001b[32m56.3/56.3 MB\u001b[0m \u001b[31m13.2 MB/s\u001b[0m eta \u001b[36m0:00:00\u001b[0m\n",
            "\u001b[2K   \u001b[90m━━━━━━━━━━━━━━━━━━━━━━━━━━━━━━━━━━━━━━━━\u001b[0m \u001b[32m127.9/127.9 MB\u001b[0m \u001b[31m7.4 MB/s\u001b[0m eta \u001b[36m0:00:00\u001b[0m\n",
            "\u001b[2K   \u001b[90m━━━━━━━━━━━━━━━━━━━━━━━━━━━━━━━━━━━━━━━━\u001b[0m \u001b[32m207.5/207.5 MB\u001b[0m \u001b[31m6.3 MB/s\u001b[0m eta \u001b[36m0:00:00\u001b[0m\n",
            "\u001b[2K   \u001b[90m━━━━━━━━━━━━━━━━━━━━━━━━━━━━━━━━━━━━━━━━\u001b[0m \u001b[32m21.1/21.1 MB\u001b[0m \u001b[31m62.7 MB/s\u001b[0m eta \u001b[36m0:00:00\u001b[0m\n",
            "\u001b[?25h"
          ]
        }
      ],
      "source": [
        "!pip install -q llama-index-embeddings-huggingface"
      ]
    },
    {
      "cell_type": "markdown",
      "metadata": {
        "id": "RpeUtcHyph0P"
      },
      "source": [
        "**Embedding:**\n",
        "\n",
        "\n",
        "*   São representações numéricas de dados, especialmente texto, que permitem que informações semânticas sejam capturadas em um espaço vetorial contínuo.\n",
        "*   Em NLP, embeddings transformam palavras ou frases em vetores de números que preservam relações semânticas. Isso significa que palavras com significados semelhantes terão representações vetoriais próximas umas das outras.\n",
        "\n"
      ]
    },
    {
      "cell_type": "code",
      "execution_count": null,
      "metadata": {
        "id": "wiqrYxP6iDbo"
      },
      "outputs": [],
      "source": [
        "from llama_index.embeddings.huggingface import HuggingFaceEmbedding"
      ]
    },
    {
      "cell_type": "code",
      "execution_count": null,
      "metadata": {
        "id": "85lmhG8KiDpC"
      },
      "outputs": [],
      "source": [
        "embed_model = HuggingFaceEmbedding(model_name= \"intfloat/multilingual-e5-large\")"
      ]
    },
    {
      "cell_type": "code",
      "execution_count": null,
      "metadata": {
        "id": "idBIFYaYiz6o"
      },
      "outputs": [],
      "source": [
        "#Classe para que o huggingface fique compativel com o ChromaDB\n",
        "class ChromaEmbeddingsWrapper:\n",
        "  def __init__(self,model_name):\n",
        "     self.model = HuggingFaceEmbedding(model_name=model_name)\n",
        "  #Transforma a entrada em um vetor de embeddings\n",
        "  def __call__(self, input):\n",
        "     return self.model.embed(input)\n",
        "\n",
        "embed_model_chroma = ChromaEmbeddingsWrapper(\"intfloat/multilingual-e5-large\")\n"
      ]
    },
    {
      "cell_type": "code",
      "execution_count": null,
      "metadata": {
        "colab": {
          "base_uri": "https://localhost:8080/"
        },
        "id": "JKYs-aisi0E9",
        "outputId": "3e8b1c01-48a7-4b60-e98e-8047303f83a6"
      },
      "outputs": [
        {
          "name": "stdout",
          "output_type": "stream",
          "text": [
            "\u001b[?25l     \u001b[90m━━━━━━━━━━━━━━━━━━━━━━━━━━━━━━━━━━━━━━━━\u001b[0m \u001b[32m0.0/67.3 kB\u001b[0m \u001b[31m?\u001b[0m eta \u001b[36m-:--:--\u001b[0m\r\u001b[2K     \u001b[90m━━━━━━━━━━━━━━━━━━━━━━━━━━━━━━━━━━━━━━━━\u001b[0m \u001b[32m67.3/67.3 kB\u001b[0m \u001b[31m2.6 MB/s\u001b[0m eta \u001b[36m0:00:00\u001b[0m\n",
            "\u001b[?25h  Installing build dependencies ... \u001b[?25l\u001b[?25hdone\n",
            "  Getting requirements to build wheel ... \u001b[?25l\u001b[?25hdone\n",
            "  Preparing metadata (pyproject.toml) ... \u001b[?25l\u001b[?25hdone\n",
            "\u001b[2K   \u001b[90m━━━━━━━━━━━━━━━━━━━━━━━━━━━━━━━━━━━━━━━━\u001b[0m \u001b[32m18.9/18.9 MB\u001b[0m \u001b[31m79.1 MB/s\u001b[0m eta \u001b[36m0:00:00\u001b[0m\n",
            "\u001b[2K   \u001b[90m━━━━━━━━━━━━━━━━━━━━━━━━━━━━━━━━━━━━━━━━\u001b[0m \u001b[32m94.9/94.9 kB\u001b[0m \u001b[31m7.0 MB/s\u001b[0m eta \u001b[36m0:00:00\u001b[0m\n",
            "\u001b[2K   \u001b[90m━━━━━━━━━━━━━━━━━━━━━━━━━━━━━━━━━━━━━━━━\u001b[0m \u001b[32m284.2/284.2 kB\u001b[0m \u001b[31m18.3 MB/s\u001b[0m eta \u001b[36m0:00:00\u001b[0m\n",
            "\u001b[2K   \u001b[90m━━━━━━━━━━━━━━━━━━━━━━━━━━━━━━━━━━━━━━━━\u001b[0m \u001b[32m2.0/2.0 MB\u001b[0m \u001b[31m66.7 MB/s\u001b[0m eta \u001b[36m0:00:00\u001b[0m\n",
            "\u001b[2K   \u001b[90m━━━━━━━━━━━━━━━━━━━━━━━━━━━━━━━━━━━━━━━━\u001b[0m \u001b[32m101.6/101.6 kB\u001b[0m \u001b[31m7.3 MB/s\u001b[0m eta \u001b[36m0:00:00\u001b[0m\n",
            "\u001b[2K   \u001b[90m━━━━━━━━━━━━━━━━━━━━━━━━━━━━━━━━━━━━━━━━\u001b[0m \u001b[32m16.4/16.4 MB\u001b[0m \u001b[31m89.0 MB/s\u001b[0m eta \u001b[36m0:00:00\u001b[0m\n",
            "\u001b[2K   \u001b[90m━━━━━━━━━━━━━━━━━━━━━━━━━━━━━━━━━━━━━━━━\u001b[0m \u001b[32m55.9/55.9 kB\u001b[0m \u001b[31m4.0 MB/s\u001b[0m eta \u001b[36m0:00:00\u001b[0m\n",
            "\u001b[2K   \u001b[90m━━━━━━━━━━━━━━━━━━━━━━━━━━━━━━━━━━━━━━━━\u001b[0m \u001b[32m194.9/194.9 kB\u001b[0m \u001b[31m12.2 MB/s\u001b[0m eta \u001b[36m0:00:00\u001b[0m\n",
            "\u001b[2K   \u001b[90m━━━━━━━━━━━━━━━━━━━━━━━━━━━━━━━━━━━━━━━━\u001b[0m \u001b[32m65.8/65.8 kB\u001b[0m \u001b[31m3.3 MB/s\u001b[0m eta \u001b[36m0:00:00\u001b[0m\n",
            "\u001b[2K   \u001b[90m━━━━━━━━━━━━━━━━━━━━━━━━━━━━━━━━━━━━━━━━\u001b[0m \u001b[32m118.9/118.9 kB\u001b[0m \u001b[31m8.0 MB/s\u001b[0m eta \u001b[36m0:00:00\u001b[0m\n",
            "\u001b[2K   \u001b[90m━━━━━━━━━━━━━━━━━━━━━━━━━━━━━━━━━━━━━━━━\u001b[0m \u001b[32m92.0/92.0 kB\u001b[0m \u001b[31m6.2 MB/s\u001b[0m eta \u001b[36m0:00:00\u001b[0m\n",
            "\u001b[2K   \u001b[90m━━━━━━━━━━━━━━━━━━━━━━━━━━━━━━━━━━━━━━━━\u001b[0m \u001b[32m62.5/62.5 kB\u001b[0m \u001b[31m4.2 MB/s\u001b[0m eta \u001b[36m0:00:00\u001b[0m\n",
            "\u001b[2K   \u001b[90m━━━━━━━━━━━━━━━━━━━━━━━━━━━━━━━━━━━━━━━━\u001b[0m \u001b[32m459.8/459.8 kB\u001b[0m \u001b[31m26.8 MB/s\u001b[0m eta \u001b[36m0:00:00\u001b[0m\n",
            "\u001b[2K   \u001b[90m━━━━━━━━━━━━━━━━━━━━━━━━━━━━━━━━━━━━━━━━\u001b[0m \u001b[32m71.5/71.5 kB\u001b[0m \u001b[31m4.4 MB/s\u001b[0m eta \u001b[36m0:00:00\u001b[0m\n",
            "\u001b[2K   \u001b[90m━━━━━━━━━━━━━━━━━━━━━━━━━━━━━━━━━━━━━━━━\u001b[0m \u001b[32m4.0/4.0 MB\u001b[0m \u001b[31m91.7 MB/s\u001b[0m eta \u001b[36m0:00:00\u001b[0m\n",
            "\u001b[2K   \u001b[90m━━━━━━━━━━━━━━━━━━━━━━━━━━━━━━━━━━━━━━━━\u001b[0m \u001b[32m454.8/454.8 kB\u001b[0m \u001b[31m25.5 MB/s\u001b[0m eta \u001b[36m0:00:00\u001b[0m\n",
            "\u001b[2K   \u001b[90m━━━━━━━━━━━━━━━━━━━━━━━━━━━━━━━━━━━━━━━━\u001b[0m \u001b[32m46.0/46.0 kB\u001b[0m \u001b[31m3.0 MB/s\u001b[0m eta \u001b[36m0:00:00\u001b[0m\n",
            "\u001b[2K   \u001b[90m━━━━━━━━━━━━━━━━━━━━━━━━━━━━━━━━━━━━━━━━\u001b[0m \u001b[32m86.8/86.8 kB\u001b[0m \u001b[31m6.4 MB/s\u001b[0m eta \u001b[36m0:00:00\u001b[0m\n",
            "\u001b[?25h  Building wheel for pypika (pyproject.toml) ... \u001b[?25l\u001b[?25hdone\n"
          ]
        }
      ],
      "source": [
        "!pip install -q llama-index-vector-stores-chroma"
      ]
    },
    {
      "cell_type": "code",
      "execution_count": null,
      "metadata": {
        "colab": {
          "base_uri": "https://localhost:8080/",
          "height": 1000
        },
        "collapsed": true,
        "id": "ZC55zfG5n7BR",
        "outputId": "aa3394a6-0e2c-4748-ad26-1083507dc2ce"
      },
      "outputs": [
        {
          "name": "stdout",
          "output_type": "stream",
          "text": [
            "Collecting opentelemetry-sdk==1.19.0\n",
            "  Downloading opentelemetry_sdk-1.19.0-py3-none-any.whl.metadata (1.5 kB)\n",
            "Collecting opentelemetry-api==1.19.0 (from opentelemetry-sdk==1.19.0)\n",
            "  Downloading opentelemetry_api-1.19.0-py3-none-any.whl.metadata (1.4 kB)\n",
            "Collecting opentelemetry-semantic-conventions==0.40b0 (from opentelemetry-sdk==1.19.0)\n",
            "  Downloading opentelemetry_semantic_conventions-0.40b0-py3-none-any.whl.metadata (2.3 kB)\n",
            "Requirement already satisfied: typing-extensions>=3.7.4 in /usr/local/lib/python3.11/dist-packages (from opentelemetry-sdk==1.19.0) (4.13.2)\n",
            "Requirement already satisfied: deprecated>=1.2.6 in /usr/local/lib/python3.11/dist-packages (from opentelemetry-api==1.19.0->opentelemetry-sdk==1.19.0) (1.2.18)\n",
            "Collecting importlib-metadata~=6.0 (from opentelemetry-api==1.19.0->opentelemetry-sdk==1.19.0)\n",
            "  Downloading importlib_metadata-6.11.0-py3-none-any.whl.metadata (4.9 kB)\n",
            "Requirement already satisfied: wrapt<2,>=1.10 in /usr/local/lib/python3.11/dist-packages (from deprecated>=1.2.6->opentelemetry-api==1.19.0->opentelemetry-sdk==1.19.0) (1.17.2)\n",
            "Requirement already satisfied: zipp>=0.5 in /usr/local/lib/python3.11/dist-packages (from importlib-metadata~=6.0->opentelemetry-api==1.19.0->opentelemetry-sdk==1.19.0) (3.21.0)\n",
            "Downloading opentelemetry_sdk-1.19.0-py3-none-any.whl (103 kB)\n",
            "\u001b[2K   \u001b[90m━━━━━━━━━━━━━━━━━━━━━━━━━━━━━━━━━━━━━━━━\u001b[0m \u001b[32m103.9/103.9 kB\u001b[0m \u001b[31m4.1 MB/s\u001b[0m eta \u001b[36m0:00:00\u001b[0m\n",
            "\u001b[?25hDownloading opentelemetry_api-1.19.0-py3-none-any.whl (57 kB)\n",
            "\u001b[2K   \u001b[90m━━━━━━━━━━━━━━━━━━━━━━━━━━━━━━━━━━━━━━━━\u001b[0m \u001b[32m57.5/57.5 kB\u001b[0m \u001b[31m1.6 MB/s\u001b[0m eta \u001b[36m0:00:00\u001b[0m\n",
            "\u001b[?25hDownloading opentelemetry_semantic_conventions-0.40b0-py3-none-any.whl (26 kB)\n",
            "Downloading importlib_metadata-6.11.0-py3-none-any.whl (23 kB)\n",
            "Installing collected packages: opentelemetry-semantic-conventions, importlib-metadata, opentelemetry-api, opentelemetry-sdk\n",
            "  Attempting uninstall: opentelemetry-semantic-conventions\n",
            "    Found existing installation: opentelemetry-semantic-conventions 0.54b0\n",
            "    Uninstalling opentelemetry-semantic-conventions-0.54b0:\n",
            "      Successfully uninstalled opentelemetry-semantic-conventions-0.54b0\n",
            "  Attempting uninstall: importlib-metadata\n",
            "    Found existing installation: importlib_metadata 8.6.1\n",
            "    Uninstalling importlib_metadata-8.6.1:\n",
            "      Successfully uninstalled importlib_metadata-8.6.1\n",
            "  Attempting uninstall: opentelemetry-api\n",
            "    Found existing installation: opentelemetry-api 1.33.0\n",
            "    Uninstalling opentelemetry-api-1.33.0:\n",
            "      Successfully uninstalled opentelemetry-api-1.33.0\n",
            "  Attempting uninstall: opentelemetry-sdk\n",
            "    Found existing installation: opentelemetry-sdk 1.33.0\n",
            "    Uninstalling opentelemetry-sdk-1.33.0:\n",
            "      Successfully uninstalled opentelemetry-sdk-1.33.0\n",
            "\u001b[31mERROR: pip's dependency resolver does not currently take into account all the packages that are installed. This behaviour is the source of the following dependency conflicts.\n",
            "opentelemetry-instrumentation-fastapi 0.54b0 requires opentelemetry-semantic-conventions==0.54b0, but you have opentelemetry-semantic-conventions 0.40b0 which is incompatible.\n",
            "opentelemetry-instrumentation-asgi 0.54b0 requires opentelemetry-semantic-conventions==0.54b0, but you have opentelemetry-semantic-conventions 0.40b0 which is incompatible.\n",
            "opentelemetry-instrumentation 0.54b0 requires opentelemetry-semantic-conventions==0.54b0, but you have opentelemetry-semantic-conventions 0.40b0 which is incompatible.\n",
            "opentelemetry-exporter-otlp-proto-grpc 1.33.0 requires opentelemetry-sdk~=1.33.0, but you have opentelemetry-sdk 1.19.0 which is incompatible.\u001b[0m\u001b[31m\n",
            "\u001b[0mSuccessfully installed importlib-metadata-6.11.0 opentelemetry-api-1.19.0 opentelemetry-sdk-1.19.0 opentelemetry-semantic-conventions-0.40b0\n"
          ]
        },
        {
          "data": {
            "application/vnd.colab-display-data+json": {
              "id": "72064fdaa1b44dcba45f5c42e03dfdd1",
              "pip_warning": {
                "packages": [
                  "importlib_metadata"
                ]
              }
            }
          },
          "metadata": {},
          "output_type": "display_data"
        },
        {
          "name": "stdout",
          "output_type": "stream",
          "text": [
            "Requirement already satisfied: chromadb in /usr/local/lib/python3.11/dist-packages (1.0.9)\n",
            "Requirement already satisfied: build>=1.0.3 in /usr/local/lib/python3.11/dist-packages (from chromadb) (1.2.2.post1)\n",
            "Requirement already satisfied: pydantic>=1.9 in /usr/local/lib/python3.11/dist-packages (from chromadb) (2.11.4)\n",
            "Requirement already satisfied: fastapi==0.115.9 in /usr/local/lib/python3.11/dist-packages (from chromadb) (0.115.9)\n",
            "Requirement already satisfied: uvicorn>=0.18.3 in /usr/local/lib/python3.11/dist-packages (from uvicorn[standard]>=0.18.3->chromadb) (0.34.2)\n",
            "Requirement already satisfied: numpy>=1.22.5 in /usr/local/lib/python3.11/dist-packages (from chromadb) (2.0.2)\n",
            "Requirement already satisfied: posthog>=2.4.0 in /usr/local/lib/python3.11/dist-packages (from chromadb) (4.0.1)\n",
            "Requirement already satisfied: typing-extensions>=4.5.0 in /usr/local/lib/python3.11/dist-packages (from chromadb) (4.13.2)\n",
            "Requirement already satisfied: onnxruntime>=1.14.1 in /usr/local/lib/python3.11/dist-packages (from chromadb) (1.22.0)\n",
            "Requirement already satisfied: opentelemetry-api>=1.2.0 in /usr/local/lib/python3.11/dist-packages (from chromadb) (1.19.0)\n",
            "Requirement already satisfied: opentelemetry-exporter-otlp-proto-grpc>=1.2.0 in /usr/local/lib/python3.11/dist-packages (from chromadb) (1.33.0)\n",
            "Requirement already satisfied: opentelemetry-instrumentation-fastapi>=0.41b0 in /usr/local/lib/python3.11/dist-packages (from chromadb) (0.54b0)\n",
            "Requirement already satisfied: opentelemetry-sdk>=1.2.0 in /usr/local/lib/python3.11/dist-packages (from chromadb) (1.19.0)\n",
            "Requirement already satisfied: tokenizers>=0.13.2 in /usr/local/lib/python3.11/dist-packages (from chromadb) (0.21.1)\n",
            "Requirement already satisfied: pypika>=0.48.9 in /usr/local/lib/python3.11/dist-packages (from chromadb) (0.48.9)\n",
            "Requirement already satisfied: tqdm>=4.65.0 in /usr/local/lib/python3.11/dist-packages (from chromadb) (4.67.1)\n",
            "Requirement already satisfied: overrides>=7.3.1 in /usr/local/lib/python3.11/dist-packages (from chromadb) (7.7.0)\n",
            "Requirement already satisfied: importlib-resources in /usr/local/lib/python3.11/dist-packages (from chromadb) (6.5.2)\n",
            "Requirement already satisfied: grpcio>=1.58.0 in /usr/local/lib/python3.11/dist-packages (from chromadb) (1.71.0)\n",
            "Requirement already satisfied: bcrypt>=4.0.1 in /usr/local/lib/python3.11/dist-packages (from chromadb) (4.3.0)\n",
            "Requirement already satisfied: typer>=0.9.0 in /usr/local/lib/python3.11/dist-packages (from chromadb) (0.15.3)\n",
            "Requirement already satisfied: kubernetes>=28.1.0 in /usr/local/lib/python3.11/dist-packages (from chromadb) (32.0.1)\n",
            "Requirement already satisfied: tenacity>=8.2.3 in /usr/local/lib/python3.11/dist-packages (from chromadb) (9.1.2)\n",
            "Requirement already satisfied: pyyaml>=6.0.0 in /usr/local/lib/python3.11/dist-packages (from chromadb) (6.0.2)\n",
            "Requirement already satisfied: mmh3>=4.0.1 in /usr/local/lib/python3.11/dist-packages (from chromadb) (5.1.0)\n",
            "Requirement already satisfied: orjson>=3.9.12 in /usr/local/lib/python3.11/dist-packages (from chromadb) (3.10.18)\n",
            "Requirement already satisfied: httpx>=0.27.0 in /usr/local/lib/python3.11/dist-packages (from chromadb) (0.28.1)\n",
            "Requirement already satisfied: rich>=10.11.0 in /usr/local/lib/python3.11/dist-packages (from chromadb) (13.9.4)\n",
            "Requirement already satisfied: jsonschema>=4.19.0 in /usr/local/lib/python3.11/dist-packages (from chromadb) (4.23.0)\n",
            "Requirement already satisfied: starlette<0.46.0,>=0.40.0 in /usr/local/lib/python3.11/dist-packages (from fastapi==0.115.9->chromadb) (0.45.3)\n",
            "Requirement already satisfied: packaging>=19.1 in /usr/local/lib/python3.11/dist-packages (from build>=1.0.3->chromadb) (24.2)\n",
            "Requirement already satisfied: pyproject_hooks in /usr/local/lib/python3.11/dist-packages (from build>=1.0.3->chromadb) (1.2.0)\n",
            "Requirement already satisfied: anyio in /usr/local/lib/python3.11/dist-packages (from httpx>=0.27.0->chromadb) (4.9.0)\n",
            "Requirement already satisfied: certifi in /usr/local/lib/python3.11/dist-packages (from httpx>=0.27.0->chromadb) (2025.4.26)\n",
            "Requirement already satisfied: httpcore==1.* in /usr/local/lib/python3.11/dist-packages (from httpx>=0.27.0->chromadb) (1.0.9)\n",
            "Requirement already satisfied: idna in /usr/local/lib/python3.11/dist-packages (from httpx>=0.27.0->chromadb) (3.10)\n",
            "Requirement already satisfied: h11>=0.16 in /usr/local/lib/python3.11/dist-packages (from httpcore==1.*->httpx>=0.27.0->chromadb) (0.16.0)\n",
            "Requirement already satisfied: attrs>=22.2.0 in /usr/local/lib/python3.11/dist-packages (from jsonschema>=4.19.0->chromadb) (25.3.0)\n",
            "Requirement already satisfied: jsonschema-specifications>=2023.03.6 in /usr/local/lib/python3.11/dist-packages (from jsonschema>=4.19.0->chromadb) (2025.4.1)\n",
            "Requirement already satisfied: referencing>=0.28.4 in /usr/local/lib/python3.11/dist-packages (from jsonschema>=4.19.0->chromadb) (0.36.2)\n",
            "Requirement already satisfied: rpds-py>=0.7.1 in /usr/local/lib/python3.11/dist-packages (from jsonschema>=4.19.0->chromadb) (0.24.0)\n",
            "Requirement already satisfied: six>=1.9.0 in /usr/local/lib/python3.11/dist-packages (from kubernetes>=28.1.0->chromadb) (1.17.0)\n",
            "Requirement already satisfied: python-dateutil>=2.5.3 in /usr/local/lib/python3.11/dist-packages (from kubernetes>=28.1.0->chromadb) (2.9.0.post0)\n",
            "Requirement already satisfied: google-auth>=1.0.1 in /usr/local/lib/python3.11/dist-packages (from kubernetes>=28.1.0->chromadb) (2.38.0)\n",
            "Requirement already satisfied: websocket-client!=0.40.0,!=0.41.*,!=0.42.*,>=0.32.0 in /usr/local/lib/python3.11/dist-packages (from kubernetes>=28.1.0->chromadb) (1.8.0)\n",
            "Requirement already satisfied: requests in /usr/local/lib/python3.11/dist-packages (from kubernetes>=28.1.0->chromadb) (2.32.3)\n",
            "Requirement already satisfied: requests-oauthlib in /usr/local/lib/python3.11/dist-packages (from kubernetes>=28.1.0->chromadb) (2.0.0)\n",
            "Requirement already satisfied: oauthlib>=3.2.2 in /usr/local/lib/python3.11/dist-packages (from kubernetes>=28.1.0->chromadb) (3.2.2)\n",
            "Requirement already satisfied: urllib3>=1.24.2 in /usr/local/lib/python3.11/dist-packages (from kubernetes>=28.1.0->chromadb) (2.4.0)\n",
            "Requirement already satisfied: durationpy>=0.7 in /usr/local/lib/python3.11/dist-packages (from kubernetes>=28.1.0->chromadb) (0.9)\n",
            "Requirement already satisfied: coloredlogs in /usr/local/lib/python3.11/dist-packages (from onnxruntime>=1.14.1->chromadb) (15.0.1)\n",
            "Requirement already satisfied: flatbuffers in /usr/local/lib/python3.11/dist-packages (from onnxruntime>=1.14.1->chromadb) (25.2.10)\n",
            "Requirement already satisfied: protobuf in /usr/local/lib/python3.11/dist-packages (from onnxruntime>=1.14.1->chromadb) (5.29.4)\n",
            "Requirement already satisfied: sympy in /usr/local/lib/python3.11/dist-packages (from onnxruntime>=1.14.1->chromadb) (1.13.1)\n",
            "Requirement already satisfied: deprecated>=1.2.6 in /usr/local/lib/python3.11/dist-packages (from opentelemetry-api>=1.2.0->chromadb) (1.2.18)\n",
            "Requirement already satisfied: importlib-metadata~=6.0 in /usr/local/lib/python3.11/dist-packages (from opentelemetry-api>=1.2.0->chromadb) (6.11.0)\n",
            "Requirement already satisfied: googleapis-common-protos~=1.52 in /usr/local/lib/python3.11/dist-packages (from opentelemetry-exporter-otlp-proto-grpc>=1.2.0->chromadb) (1.70.0)\n",
            "Requirement already satisfied: opentelemetry-exporter-otlp-proto-common==1.33.0 in /usr/local/lib/python3.11/dist-packages (from opentelemetry-exporter-otlp-proto-grpc>=1.2.0->chromadb) (1.33.0)\n",
            "Requirement already satisfied: opentelemetry-proto==1.33.0 in /usr/local/lib/python3.11/dist-packages (from opentelemetry-exporter-otlp-proto-grpc>=1.2.0->chromadb) (1.33.0)\n",
            "Collecting opentelemetry-sdk>=1.2.0 (from chromadb)\n",
            "  Using cached opentelemetry_sdk-1.33.0-py3-none-any.whl.metadata (1.6 kB)\n",
            "Requirement already satisfied: opentelemetry-instrumentation-asgi==0.54b0 in /usr/local/lib/python3.11/dist-packages (from opentelemetry-instrumentation-fastapi>=0.41b0->chromadb) (0.54b0)\n",
            "Requirement already satisfied: opentelemetry-instrumentation==0.54b0 in /usr/local/lib/python3.11/dist-packages (from opentelemetry-instrumentation-fastapi>=0.41b0->chromadb) (0.54b0)\n",
            "Collecting opentelemetry-semantic-conventions==0.54b0 (from opentelemetry-instrumentation-fastapi>=0.41b0->chromadb)\n",
            "  Using cached opentelemetry_semantic_conventions-0.54b0-py3-none-any.whl.metadata (2.5 kB)\n",
            "Requirement already satisfied: opentelemetry-util-http==0.54b0 in /usr/local/lib/python3.11/dist-packages (from opentelemetry-instrumentation-fastapi>=0.41b0->chromadb) (0.54b0)\n",
            "Requirement already satisfied: wrapt<2.0.0,>=1.0.0 in /usr/local/lib/python3.11/dist-packages (from opentelemetry-instrumentation==0.54b0->opentelemetry-instrumentation-fastapi>=0.41b0->chromadb) (1.17.2)\n",
            "Requirement already satisfied: asgiref~=3.0 in /usr/local/lib/python3.11/dist-packages (from opentelemetry-instrumentation-asgi==0.54b0->opentelemetry-instrumentation-fastapi>=0.41b0->chromadb) (3.8.1)\n",
            "Collecting opentelemetry-api>=1.2.0 (from chromadb)\n",
            "  Using cached opentelemetry_api-1.33.0-py3-none-any.whl.metadata (1.6 kB)\n",
            "Requirement already satisfied: backoff>=1.10.0 in /usr/local/lib/python3.11/dist-packages (from posthog>=2.4.0->chromadb) (2.2.1)\n",
            "Requirement already satisfied: distro>=1.5.0 in /usr/local/lib/python3.11/dist-packages (from posthog>=2.4.0->chromadb) (1.9.0)\n",
            "Requirement already satisfied: annotated-types>=0.6.0 in /usr/local/lib/python3.11/dist-packages (from pydantic>=1.9->chromadb) (0.7.0)\n",
            "Requirement already satisfied: pydantic-core==2.33.2 in /usr/local/lib/python3.11/dist-packages (from pydantic>=1.9->chromadb) (2.33.2)\n",
            "Requirement already satisfied: typing-inspection>=0.4.0 in /usr/local/lib/python3.11/dist-packages (from pydantic>=1.9->chromadb) (0.4.0)\n",
            "Requirement already satisfied: markdown-it-py>=2.2.0 in /usr/local/lib/python3.11/dist-packages (from rich>=10.11.0->chromadb) (3.0.0)\n",
            "Requirement already satisfied: pygments<3.0.0,>=2.13.0 in /usr/local/lib/python3.11/dist-packages (from rich>=10.11.0->chromadb) (2.19.1)\n",
            "Requirement already satisfied: huggingface-hub<1.0,>=0.16.4 in /usr/local/lib/python3.11/dist-packages (from tokenizers>=0.13.2->chromadb) (0.31.1)\n",
            "Requirement already satisfied: click>=8.0.0 in /usr/local/lib/python3.11/dist-packages (from typer>=0.9.0->chromadb) (8.1.8)\n",
            "Requirement already satisfied: shellingham>=1.3.0 in /usr/local/lib/python3.11/dist-packages (from typer>=0.9.0->chromadb) (1.5.4)\n",
            "Requirement already satisfied: httptools>=0.6.3 in /usr/local/lib/python3.11/dist-packages (from uvicorn[standard]>=0.18.3->chromadb) (0.6.4)\n",
            "Requirement already satisfied: python-dotenv>=0.13 in /usr/local/lib/python3.11/dist-packages (from uvicorn[standard]>=0.18.3->chromadb) (1.1.0)\n",
            "Requirement already satisfied: uvloop!=0.15.0,!=0.15.1,>=0.14.0 in /usr/local/lib/python3.11/dist-packages (from uvicorn[standard]>=0.18.3->chromadb) (0.21.0)\n",
            "Requirement already satisfied: watchfiles>=0.13 in /usr/local/lib/python3.11/dist-packages (from uvicorn[standard]>=0.18.3->chromadb) (1.0.5)\n",
            "Requirement already satisfied: websockets>=10.4 in /usr/local/lib/python3.11/dist-packages (from uvicorn[standard]>=0.18.3->chromadb) (15.0.1)\n",
            "Requirement already satisfied: cachetools<6.0,>=2.0.0 in /usr/local/lib/python3.11/dist-packages (from google-auth>=1.0.1->kubernetes>=28.1.0->chromadb) (5.5.2)\n",
            "Requirement already satisfied: pyasn1-modules>=0.2.1 in /usr/local/lib/python3.11/dist-packages (from google-auth>=1.0.1->kubernetes>=28.1.0->chromadb) (0.4.2)\n",
            "Requirement already satisfied: rsa<5,>=3.1.4 in /usr/local/lib/python3.11/dist-packages (from google-auth>=1.0.1->kubernetes>=28.1.0->chromadb) (4.9.1)\n",
            "Requirement already satisfied: filelock in /usr/local/lib/python3.11/dist-packages (from huggingface-hub<1.0,>=0.16.4->tokenizers>=0.13.2->chromadb) (3.18.0)\n",
            "Requirement already satisfied: fsspec>=2023.5.0 in /usr/local/lib/python3.11/dist-packages (from huggingface-hub<1.0,>=0.16.4->tokenizers>=0.13.2->chromadb) (2025.3.2)\n",
            "Requirement already satisfied: hf-xet<2.0.0,>=1.1.0 in /usr/local/lib/python3.11/dist-packages (from huggingface-hub<1.0,>=0.16.4->tokenizers>=0.13.2->chromadb) (1.1.0)\n",
            "Requirement already satisfied: zipp>=0.5 in /usr/local/lib/python3.11/dist-packages (from importlib-metadata~=6.0->opentelemetry-api>=1.2.0->chromadb) (3.21.0)\n",
            "Requirement already satisfied: mdurl~=0.1 in /usr/local/lib/python3.11/dist-packages (from markdown-it-py>=2.2.0->rich>=10.11.0->chromadb) (0.1.2)\n",
            "Requirement already satisfied: charset-normalizer<4,>=2 in /usr/local/lib/python3.11/dist-packages (from requests->kubernetes>=28.1.0->chromadb) (3.4.2)\n",
            "Requirement already satisfied: sniffio>=1.1 in /usr/local/lib/python3.11/dist-packages (from anyio->httpx>=0.27.0->chromadb) (1.3.1)\n",
            "Requirement already satisfied: humanfriendly>=9.1 in /usr/local/lib/python3.11/dist-packages (from coloredlogs->onnxruntime>=1.14.1->chromadb) (10.0)\n",
            "Requirement already satisfied: mpmath<1.4,>=1.1.0 in /usr/local/lib/python3.11/dist-packages (from sympy->onnxruntime>=1.14.1->chromadb) (1.3.0)\n",
            "Requirement already satisfied: pyasn1<0.7.0,>=0.6.1 in /usr/local/lib/python3.11/dist-packages (from pyasn1-modules>=0.2.1->google-auth>=1.0.1->kubernetes>=28.1.0->chromadb) (0.6.1)\n",
            "Using cached opentelemetry_semantic_conventions-0.54b0-py3-none-any.whl (194 kB)\n",
            "Using cached opentelemetry_api-1.33.0-py3-none-any.whl (65 kB)\n",
            "Using cached opentelemetry_sdk-1.33.0-py3-none-any.whl (118 kB)\n",
            "Installing collected packages: opentelemetry-api, opentelemetry-semantic-conventions, opentelemetry-sdk\n",
            "  Attempting uninstall: opentelemetry-api\n",
            "    Found existing installation: opentelemetry-api 1.19.0\n",
            "    Uninstalling opentelemetry-api-1.19.0:\n",
            "      Successfully uninstalled opentelemetry-api-1.19.0\n",
            "  Attempting uninstall: opentelemetry-semantic-conventions\n",
            "    Found existing installation: opentelemetry-semantic-conventions 0.40b0\n",
            "    Uninstalling opentelemetry-semantic-conventions-0.40b0:\n",
            "      Successfully uninstalled opentelemetry-semantic-conventions-0.40b0\n",
            "  Attempting uninstall: opentelemetry-sdk\n",
            "    Found existing installation: opentelemetry-sdk 1.19.0\n",
            "    Uninstalling opentelemetry-sdk-1.19.0:\n",
            "      Successfully uninstalled opentelemetry-sdk-1.19.0\n",
            "Successfully installed opentelemetry-api-1.33.0 opentelemetry-sdk-1.33.0 opentelemetry-semantic-conventions-0.54b0\n"
          ]
        }
      ],
      "source": [
        "!pip install opentelemetry-sdk==1.19.0\n",
        "!pip install chromadb"
      ]
    },
    {
      "cell_type": "markdown",
      "metadata": {
        "id": "07uEjX4Zlssc"
      },
      "source": [
        "**Estrutura Banco Vetorial:**\n",
        "  \n",
        "\n",
        "*   Coleções\n",
        "*   Documentos\n",
        "\n"
      ]
    },
    {
      "cell_type": "code",
      "execution_count": null,
      "metadata": {
        "id": "6h7CIYC0lq5z"
      },
      "outputs": [],
      "source": [
        "import chromadb\n",
        "\n",
        "#Onde serão Armazenados os dados\n",
        "db = chromadb.PersistentClient(path='./chroma_db')\n",
        "#Comunicação com o Client\n",
        "chroma_client = db\n",
        "\n",
        "collection_name = \"meus_documentos\"\n",
        "\n",
        "chroma_collection = chroma_client.get_or_create_collection(\n",
        "    name= collection_name,\n",
        "    embedding_function=embed_model_chroma)"
      ]
    },
    {
      "cell_type": "code",
      "execution_count": null,
      "metadata": {
        "id": "q6xPSr77lrHN"
      },
      "outputs": [],
      "source": [
        "from llama_index.vector_stores.chroma import ChromaVectorStore\n",
        "from llama_index.core import StorageContext"
      ]
    },
    {
      "cell_type": "code",
      "execution_count": null,
      "metadata": {
        "id": "ImBoTzrICKGq"
      },
      "outputs": [],
      "source": [
        "#Storage de Vetores que vai armazenar nossa coleção\n",
        "vector_store = ChromaVectorStore(chroma_collection=chroma_collection)\n",
        "#Setando o storage para ser o nosso vetor_storage do ChromeDb\n",
        "storage_context = StorageContext.from_defaults(vector_store=vector_store)\n"
      ]
    },
    {
      "cell_type": "code",
      "execution_count": null,
      "metadata": {
        "id": "QkDorKYdCc4S"
      },
      "outputs": [],
      "source": [
        "from llama_index.core import SimpleDirectoryReader"
      ]
    },
    {
      "cell_type": "code",
      "execution_count": null,
      "metadata": {
        "id": "ca6TuDTSDSvK"
      },
      "outputs": [],
      "source": [
        "path_csv_dir = \"/content/drive/MyDrive/ALURA/RAG/LlamaIndex: integração de LLMs com bancos de dados vetoriais/CSV\""
      ]
    },
    {
      "cell_type": "code",
      "execution_count": null,
      "metadata": {
        "id": "qbEAL32LCc9M"
      },
      "outputs": [],
      "source": [
        "documents = SimpleDirectoryReader(input_dir= path_csv_dir).load_data()"
      ]
    },
    {
      "cell_type": "code",
      "execution_count": null,
      "metadata": {
        "id": "ERJa1J1yCdBf"
      },
      "outputs": [],
      "source": [
        "from llama_index.core import VectorStoreIndex"
      ]
    },
    {
      "cell_type": "markdown",
      "metadata": {
        "id": "n0BtHe_ADz9B"
      },
      "source": [
        "**VectorStorageIndex:**\n",
        "\n",
        "\n",
        "*   Tipo de índice usado em sistemas de recuperação de informação e bancos de dados vetoriais, especialmente em aplicações de NLP  e busca semântica.\n",
        "*   Armazena e recupera documentos com base em suas representações vetoriais (embeddings)\n",
        "\n"
      ]
    },
    {
      "cell_type": "code",
      "execution_count": null,
      "metadata": {
        "colab": {
          "base_uri": "https://localhost:8080/"
        },
        "collapsed": true,
        "id": "DKRO-s-TC6Ew",
        "outputId": "2946bf38-3096-48ba-9113-3708bbdd1c26"
      },
      "outputs": [
        {
          "name": "stdout",
          "output_type": "stream",
          "text": [
            "Requirement already satisfied: llama-index in /usr/local/lib/python3.11/dist-packages (0.12.35)\n",
            "Requirement already satisfied: chromadb in /usr/local/lib/python3.11/dist-packages (1.0.9)\n",
            "Requirement already satisfied: sentence-transformers in /usr/local/lib/python3.11/dist-packages (4.1.0)\n",
            "Requirement already satisfied: llama-index-agent-openai<0.5,>=0.4.0 in /usr/local/lib/python3.11/dist-packages (from llama-index) (0.4.7)\n",
            "Requirement already satisfied: llama-index-cli<0.5,>=0.4.1 in /usr/local/lib/python3.11/dist-packages (from llama-index) (0.4.1)\n",
            "Requirement already satisfied: llama-index-core<0.13,>=0.12.35 in /usr/local/lib/python3.11/dist-packages (from llama-index) (0.12.35)\n",
            "Requirement already satisfied: llama-index-embeddings-openai<0.4,>=0.3.0 in /usr/local/lib/python3.11/dist-packages (from llama-index) (0.3.1)\n",
            "Requirement already satisfied: llama-index-indices-managed-llama-cloud>=0.4.0 in /usr/local/lib/python3.11/dist-packages (from llama-index) (0.6.11)\n",
            "Requirement already satisfied: llama-index-llms-openai<0.4,>=0.3.0 in /usr/local/lib/python3.11/dist-packages (from llama-index) (0.3.38)\n",
            "Requirement already satisfied: llama-index-multi-modal-llms-openai<0.5,>=0.4.0 in /usr/local/lib/python3.11/dist-packages (from llama-index) (0.4.3)\n",
            "Requirement already satisfied: llama-index-program-openai<0.4,>=0.3.0 in /usr/local/lib/python3.11/dist-packages (from llama-index) (0.3.1)\n",
            "Requirement already satisfied: llama-index-question-gen-openai<0.4,>=0.3.0 in /usr/local/lib/python3.11/dist-packages (from llama-index) (0.3.0)\n",
            "Requirement already satisfied: llama-index-readers-file<0.5,>=0.4.0 in /usr/local/lib/python3.11/dist-packages (from llama-index) (0.4.7)\n",
            "Requirement already satisfied: llama-index-readers-llama-parse>=0.4.0 in /usr/local/lib/python3.11/dist-packages (from llama-index) (0.4.0)\n",
            "Requirement already satisfied: nltk>3.8.1 in /usr/local/lib/python3.11/dist-packages (from llama-index) (3.9.1)\n",
            "Requirement already satisfied: build>=1.0.3 in /usr/local/lib/python3.11/dist-packages (from chromadb) (1.2.2.post1)\n",
            "Requirement already satisfied: pydantic>=1.9 in /usr/local/lib/python3.11/dist-packages (from chromadb) (2.11.4)\n",
            "Requirement already satisfied: fastapi==0.115.9 in /usr/local/lib/python3.11/dist-packages (from chromadb) (0.115.9)\n",
            "Requirement already satisfied: uvicorn>=0.18.3 in /usr/local/lib/python3.11/dist-packages (from uvicorn[standard]>=0.18.3->chromadb) (0.34.2)\n",
            "Requirement already satisfied: numpy>=1.22.5 in /usr/local/lib/python3.11/dist-packages (from chromadb) (2.0.2)\n",
            "Requirement already satisfied: posthog>=2.4.0 in /usr/local/lib/python3.11/dist-packages (from chromadb) (4.0.1)\n",
            "Requirement already satisfied: typing-extensions>=4.5.0 in /usr/local/lib/python3.11/dist-packages (from chromadb) (4.13.2)\n",
            "Requirement already satisfied: onnxruntime>=1.14.1 in /usr/local/lib/python3.11/dist-packages (from chromadb) (1.22.0)\n",
            "Requirement already satisfied: opentelemetry-api>=1.2.0 in /usr/local/lib/python3.11/dist-packages (from chromadb) (1.33.0)\n",
            "Requirement already satisfied: opentelemetry-exporter-otlp-proto-grpc>=1.2.0 in /usr/local/lib/python3.11/dist-packages (from chromadb) (1.33.0)\n",
            "Requirement already satisfied: opentelemetry-instrumentation-fastapi>=0.41b0 in /usr/local/lib/python3.11/dist-packages (from chromadb) (0.54b0)\n",
            "Requirement already satisfied: opentelemetry-sdk>=1.2.0 in /usr/local/lib/python3.11/dist-packages (from chromadb) (1.33.0)\n",
            "Requirement already satisfied: tokenizers>=0.13.2 in /usr/local/lib/python3.11/dist-packages (from chromadb) (0.21.1)\n",
            "Requirement already satisfied: pypika>=0.48.9 in /usr/local/lib/python3.11/dist-packages (from chromadb) (0.48.9)\n",
            "Requirement already satisfied: tqdm>=4.65.0 in /usr/local/lib/python3.11/dist-packages (from chromadb) (4.67.1)\n",
            "Requirement already satisfied: overrides>=7.3.1 in /usr/local/lib/python3.11/dist-packages (from chromadb) (7.7.0)\n",
            "Requirement already satisfied: importlib-resources in /usr/local/lib/python3.11/dist-packages (from chromadb) (6.5.2)\n",
            "Requirement already satisfied: grpcio>=1.58.0 in /usr/local/lib/python3.11/dist-packages (from chromadb) (1.71.0)\n",
            "Requirement already satisfied: bcrypt>=4.0.1 in /usr/local/lib/python3.11/dist-packages (from chromadb) (4.3.0)\n",
            "Requirement already satisfied: typer>=0.9.0 in /usr/local/lib/python3.11/dist-packages (from chromadb) (0.15.3)\n",
            "Requirement already satisfied: kubernetes>=28.1.0 in /usr/local/lib/python3.11/dist-packages (from chromadb) (32.0.1)\n",
            "Requirement already satisfied: tenacity>=8.2.3 in /usr/local/lib/python3.11/dist-packages (from chromadb) (9.1.2)\n",
            "Requirement already satisfied: pyyaml>=6.0.0 in /usr/local/lib/python3.11/dist-packages (from chromadb) (6.0.2)\n",
            "Requirement already satisfied: mmh3>=4.0.1 in /usr/local/lib/python3.11/dist-packages (from chromadb) (5.1.0)\n",
            "Requirement already satisfied: orjson>=3.9.12 in /usr/local/lib/python3.11/dist-packages (from chromadb) (3.10.18)\n",
            "Requirement already satisfied: httpx>=0.27.0 in /usr/local/lib/python3.11/dist-packages (from chromadb) (0.28.1)\n",
            "Requirement already satisfied: rich>=10.11.0 in /usr/local/lib/python3.11/dist-packages (from chromadb) (13.9.4)\n",
            "Requirement already satisfied: jsonschema>=4.19.0 in /usr/local/lib/python3.11/dist-packages (from chromadb) (4.23.0)\n",
            "Requirement already satisfied: starlette<0.46.0,>=0.40.0 in /usr/local/lib/python3.11/dist-packages (from fastapi==0.115.9->chromadb) (0.45.3)\n",
            "Requirement already satisfied: transformers<5.0.0,>=4.41.0 in /usr/local/lib/python3.11/dist-packages (from sentence-transformers) (4.51.3)\n",
            "Requirement already satisfied: torch>=1.11.0 in /usr/local/lib/python3.11/dist-packages (from sentence-transformers) (2.6.0+cu124)\n",
            "Requirement already satisfied: scikit-learn in /usr/local/lib/python3.11/dist-packages (from sentence-transformers) (1.6.1)\n",
            "Requirement already satisfied: scipy in /usr/local/lib/python3.11/dist-packages (from sentence-transformers) (1.15.2)\n",
            "Requirement already satisfied: huggingface-hub>=0.20.0 in /usr/local/lib/python3.11/dist-packages (from sentence-transformers) (0.31.1)\n",
            "Requirement already satisfied: Pillow in /usr/local/lib/python3.11/dist-packages (from sentence-transformers) (11.2.1)\n",
            "Requirement already satisfied: packaging>=19.1 in /usr/local/lib/python3.11/dist-packages (from build>=1.0.3->chromadb) (24.2)\n",
            "Requirement already satisfied: pyproject_hooks in /usr/local/lib/python3.11/dist-packages (from build>=1.0.3->chromadb) (1.2.0)\n",
            "Requirement already satisfied: anyio in /usr/local/lib/python3.11/dist-packages (from httpx>=0.27.0->chromadb) (4.9.0)\n",
            "Requirement already satisfied: certifi in /usr/local/lib/python3.11/dist-packages (from httpx>=0.27.0->chromadb) (2025.4.26)\n",
            "Requirement already satisfied: httpcore==1.* in /usr/local/lib/python3.11/dist-packages (from httpx>=0.27.0->chromadb) (1.0.9)\n",
            "Requirement already satisfied: idna in /usr/local/lib/python3.11/dist-packages (from httpx>=0.27.0->chromadb) (3.10)\n",
            "Requirement already satisfied: h11>=0.16 in /usr/local/lib/python3.11/dist-packages (from httpcore==1.*->httpx>=0.27.0->chromadb) (0.16.0)\n",
            "Requirement already satisfied: filelock in /usr/local/lib/python3.11/dist-packages (from huggingface-hub>=0.20.0->sentence-transformers) (3.18.0)\n",
            "Requirement already satisfied: fsspec>=2023.5.0 in /usr/local/lib/python3.11/dist-packages (from huggingface-hub>=0.20.0->sentence-transformers) (2025.3.2)\n",
            "Requirement already satisfied: requests in /usr/local/lib/python3.11/dist-packages (from huggingface-hub>=0.20.0->sentence-transformers) (2.32.3)\n",
            "Requirement already satisfied: hf-xet<2.0.0,>=1.1.0 in /usr/local/lib/python3.11/dist-packages (from huggingface-hub>=0.20.0->sentence-transformers) (1.1.0)\n",
            "Requirement already satisfied: attrs>=22.2.0 in /usr/local/lib/python3.11/dist-packages (from jsonschema>=4.19.0->chromadb) (25.3.0)\n",
            "Requirement already satisfied: jsonschema-specifications>=2023.03.6 in /usr/local/lib/python3.11/dist-packages (from jsonschema>=4.19.0->chromadb) (2025.4.1)\n",
            "Requirement already satisfied: referencing>=0.28.4 in /usr/local/lib/python3.11/dist-packages (from jsonschema>=4.19.0->chromadb) (0.36.2)\n",
            "Requirement already satisfied: rpds-py>=0.7.1 in /usr/local/lib/python3.11/dist-packages (from jsonschema>=4.19.0->chromadb) (0.24.0)\n",
            "Requirement already satisfied: six>=1.9.0 in /usr/local/lib/python3.11/dist-packages (from kubernetes>=28.1.0->chromadb) (1.17.0)\n",
            "Requirement already satisfied: python-dateutil>=2.5.3 in /usr/local/lib/python3.11/dist-packages (from kubernetes>=28.1.0->chromadb) (2.9.0.post0)\n",
            "Requirement already satisfied: google-auth>=1.0.1 in /usr/local/lib/python3.11/dist-packages (from kubernetes>=28.1.0->chromadb) (2.38.0)\n",
            "Requirement already satisfied: websocket-client!=0.40.0,!=0.41.*,!=0.42.*,>=0.32.0 in /usr/local/lib/python3.11/dist-packages (from kubernetes>=28.1.0->chromadb) (1.8.0)\n",
            "Requirement already satisfied: requests-oauthlib in /usr/local/lib/python3.11/dist-packages (from kubernetes>=28.1.0->chromadb) (2.0.0)\n",
            "Requirement already satisfied: oauthlib>=3.2.2 in /usr/local/lib/python3.11/dist-packages (from kubernetes>=28.1.0->chromadb) (3.2.2)\n",
            "Requirement already satisfied: urllib3>=1.24.2 in /usr/local/lib/python3.11/dist-packages (from kubernetes>=28.1.0->chromadb) (2.4.0)\n",
            "Requirement already satisfied: durationpy>=0.7 in /usr/local/lib/python3.11/dist-packages (from kubernetes>=28.1.0->chromadb) (0.9)\n",
            "Requirement already satisfied: openai>=1.14.0 in /usr/local/lib/python3.11/dist-packages (from llama-index-agent-openai<0.5,>=0.4.0->llama-index) (1.77.0)\n",
            "Requirement already satisfied: aiohttp<4,>=3.8.6 in /usr/local/lib/python3.11/dist-packages (from llama-index-core<0.13,>=0.12.35->llama-index) (3.11.15)\n",
            "Requirement already satisfied: aiosqlite in /usr/local/lib/python3.11/dist-packages (from llama-index-core<0.13,>=0.12.35->llama-index) (0.21.0)\n",
            "Requirement already satisfied: banks<3,>=2.0.0 in /usr/local/lib/python3.11/dist-packages (from llama-index-core<0.13,>=0.12.35->llama-index) (2.1.2)\n",
            "Requirement already satisfied: dataclasses-json in /usr/local/lib/python3.11/dist-packages (from llama-index-core<0.13,>=0.12.35->llama-index) (0.6.7)\n",
            "Requirement already satisfied: deprecated>=1.2.9.3 in /usr/local/lib/python3.11/dist-packages (from llama-index-core<0.13,>=0.12.35->llama-index) (1.2.18)\n",
            "Requirement already satisfied: dirtyjson<2,>=1.0.8 in /usr/local/lib/python3.11/dist-packages (from llama-index-core<0.13,>=0.12.35->llama-index) (1.0.8)\n",
            "Requirement already satisfied: filetype<2,>=1.2.0 in /usr/local/lib/python3.11/dist-packages (from llama-index-core<0.13,>=0.12.35->llama-index) (1.2.0)\n",
            "Requirement already satisfied: nest-asyncio<2,>=1.5.8 in /usr/local/lib/python3.11/dist-packages (from llama-index-core<0.13,>=0.12.35->llama-index) (1.6.0)\n",
            "Requirement already satisfied: networkx>=3.0 in /usr/local/lib/python3.11/dist-packages (from llama-index-core<0.13,>=0.12.35->llama-index) (3.4.2)\n",
            "Requirement already satisfied: sqlalchemy>=1.4.49 in /usr/local/lib/python3.11/dist-packages (from sqlalchemy[asyncio]>=1.4.49->llama-index-core<0.13,>=0.12.35->llama-index) (2.0.40)\n",
            "Requirement already satisfied: tiktoken>=0.7.0 in /usr/local/lib/python3.11/dist-packages (from llama-index-core<0.13,>=0.12.35->llama-index) (0.9.0)\n",
            "Requirement already satisfied: typing-inspect>=0.8.0 in /usr/local/lib/python3.11/dist-packages (from llama-index-core<0.13,>=0.12.35->llama-index) (0.9.0)\n",
            "Requirement already satisfied: wrapt in /usr/local/lib/python3.11/dist-packages (from llama-index-core<0.13,>=0.12.35->llama-index) (1.17.2)\n",
            "Requirement already satisfied: llama-cloud<0.2.0,>=0.1.13 in /usr/local/lib/python3.11/dist-packages (from llama-index-indices-managed-llama-cloud>=0.4.0->llama-index) (0.1.19)\n",
            "Requirement already satisfied: beautifulsoup4<5.0.0,>=4.12.3 in /usr/local/lib/python3.11/dist-packages (from llama-index-readers-file<0.5,>=0.4.0->llama-index) (4.13.4)\n",
            "Requirement already satisfied: pandas in /usr/local/lib/python3.11/dist-packages (from llama-index-readers-file<0.5,>=0.4.0->llama-index) (2.2.2)\n",
            "Requirement already satisfied: pypdf<6.0.0,>=5.1.0 in /usr/local/lib/python3.11/dist-packages (from llama-index-readers-file<0.5,>=0.4.0->llama-index) (5.5.0)\n",
            "Requirement already satisfied: striprtf<0.0.27,>=0.0.26 in /usr/local/lib/python3.11/dist-packages (from llama-index-readers-file<0.5,>=0.4.0->llama-index) (0.0.26)\n",
            "Requirement already satisfied: llama-parse>=0.5.0 in /usr/local/lib/python3.11/dist-packages (from llama-index-readers-llama-parse>=0.4.0->llama-index) (0.6.22)\n",
            "Requirement already satisfied: click in /usr/local/lib/python3.11/dist-packages (from nltk>3.8.1->llama-index) (8.1.8)\n",
            "Requirement already satisfied: joblib in /usr/local/lib/python3.11/dist-packages (from nltk>3.8.1->llama-index) (1.5.0)\n",
            "Requirement already satisfied: regex>=2021.8.3 in /usr/local/lib/python3.11/dist-packages (from nltk>3.8.1->llama-index) (2024.11.6)\n",
            "Requirement already satisfied: coloredlogs in /usr/local/lib/python3.11/dist-packages (from onnxruntime>=1.14.1->chromadb) (15.0.1)\n",
            "Requirement already satisfied: flatbuffers in /usr/local/lib/python3.11/dist-packages (from onnxruntime>=1.14.1->chromadb) (25.2.10)\n",
            "Requirement already satisfied: protobuf in /usr/local/lib/python3.11/dist-packages (from onnxruntime>=1.14.1->chromadb) (5.29.4)\n",
            "Requirement already satisfied: sympy in /usr/local/lib/python3.11/dist-packages (from onnxruntime>=1.14.1->chromadb) (1.13.1)\n",
            "Requirement already satisfied: importlib-metadata<8.7.0,>=6.0 in /usr/local/lib/python3.11/dist-packages (from opentelemetry-api>=1.2.0->chromadb) (6.11.0)\n",
            "Requirement already satisfied: googleapis-common-protos~=1.52 in /usr/local/lib/python3.11/dist-packages (from opentelemetry-exporter-otlp-proto-grpc>=1.2.0->chromadb) (1.70.0)\n",
            "Requirement already satisfied: opentelemetry-exporter-otlp-proto-common==1.33.0 in /usr/local/lib/python3.11/dist-packages (from opentelemetry-exporter-otlp-proto-grpc>=1.2.0->chromadb) (1.33.0)\n",
            "Requirement already satisfied: opentelemetry-proto==1.33.0 in /usr/local/lib/python3.11/dist-packages (from opentelemetry-exporter-otlp-proto-grpc>=1.2.0->chromadb) (1.33.0)\n",
            "Requirement already satisfied: opentelemetry-instrumentation-asgi==0.54b0 in /usr/local/lib/python3.11/dist-packages (from opentelemetry-instrumentation-fastapi>=0.41b0->chromadb) (0.54b0)\n",
            "Requirement already satisfied: opentelemetry-instrumentation==0.54b0 in /usr/local/lib/python3.11/dist-packages (from opentelemetry-instrumentation-fastapi>=0.41b0->chromadb) (0.54b0)\n",
            "Requirement already satisfied: opentelemetry-semantic-conventions==0.54b0 in /usr/local/lib/python3.11/dist-packages (from opentelemetry-instrumentation-fastapi>=0.41b0->chromadb) (0.54b0)\n",
            "Requirement already satisfied: opentelemetry-util-http==0.54b0 in /usr/local/lib/python3.11/dist-packages (from opentelemetry-instrumentation-fastapi>=0.41b0->chromadb) (0.54b0)\n",
            "Requirement already satisfied: asgiref~=3.0 in /usr/local/lib/python3.11/dist-packages (from opentelemetry-instrumentation-asgi==0.54b0->opentelemetry-instrumentation-fastapi>=0.41b0->chromadb) (3.8.1)\n",
            "Requirement already satisfied: backoff>=1.10.0 in /usr/local/lib/python3.11/dist-packages (from posthog>=2.4.0->chromadb) (2.2.1)\n",
            "Requirement already satisfied: distro>=1.5.0 in /usr/local/lib/python3.11/dist-packages (from posthog>=2.4.0->chromadb) (1.9.0)\n",
            "Requirement already satisfied: annotated-types>=0.6.0 in /usr/local/lib/python3.11/dist-packages (from pydantic>=1.9->chromadb) (0.7.0)\n",
            "Requirement already satisfied: pydantic-core==2.33.2 in /usr/local/lib/python3.11/dist-packages (from pydantic>=1.9->chromadb) (2.33.2)\n",
            "Requirement already satisfied: typing-inspection>=0.4.0 in /usr/local/lib/python3.11/dist-packages (from pydantic>=1.9->chromadb) (0.4.0)\n",
            "Requirement already satisfied: markdown-it-py>=2.2.0 in /usr/local/lib/python3.11/dist-packages (from rich>=10.11.0->chromadb) (3.0.0)\n",
            "Requirement already satisfied: pygments<3.0.0,>=2.13.0 in /usr/local/lib/python3.11/dist-packages (from rich>=10.11.0->chromadb) (2.19.1)\n",
            "Requirement already satisfied: jinja2 in /usr/local/lib/python3.11/dist-packages (from torch>=1.11.0->sentence-transformers) (3.1.6)\n",
            "Requirement already satisfied: nvidia-cuda-nvrtc-cu12==12.4.127 in /usr/local/lib/python3.11/dist-packages (from torch>=1.11.0->sentence-transformers) (12.4.127)\n",
            "Requirement already satisfied: nvidia-cuda-runtime-cu12==12.4.127 in /usr/local/lib/python3.11/dist-packages (from torch>=1.11.0->sentence-transformers) (12.4.127)\n",
            "Requirement already satisfied: nvidia-cuda-cupti-cu12==12.4.127 in /usr/local/lib/python3.11/dist-packages (from torch>=1.11.0->sentence-transformers) (12.4.127)\n",
            "Requirement already satisfied: nvidia-cudnn-cu12==9.1.0.70 in /usr/local/lib/python3.11/dist-packages (from torch>=1.11.0->sentence-transformers) (9.1.0.70)\n",
            "Requirement already satisfied: nvidia-cublas-cu12==12.4.5.8 in /usr/local/lib/python3.11/dist-packages (from torch>=1.11.0->sentence-transformers) (12.4.5.8)\n",
            "Requirement already satisfied: nvidia-cufft-cu12==11.2.1.3 in /usr/local/lib/python3.11/dist-packages (from torch>=1.11.0->sentence-transformers) (11.2.1.3)\n",
            "Requirement already satisfied: nvidia-curand-cu12==10.3.5.147 in /usr/local/lib/python3.11/dist-packages (from torch>=1.11.0->sentence-transformers) (10.3.5.147)\n",
            "Requirement already satisfied: nvidia-cusolver-cu12==11.6.1.9 in /usr/local/lib/python3.11/dist-packages (from torch>=1.11.0->sentence-transformers) (11.6.1.9)\n",
            "Requirement already satisfied: nvidia-cusparse-cu12==12.3.1.170 in /usr/local/lib/python3.11/dist-packages (from torch>=1.11.0->sentence-transformers) (12.3.1.170)\n",
            "Requirement already satisfied: nvidia-cusparselt-cu12==0.6.2 in /usr/local/lib/python3.11/dist-packages (from torch>=1.11.0->sentence-transformers) (0.6.2)\n",
            "Requirement already satisfied: nvidia-nccl-cu12==2.21.5 in /usr/local/lib/python3.11/dist-packages (from torch>=1.11.0->sentence-transformers) (2.21.5)\n",
            "Requirement already satisfied: nvidia-nvtx-cu12==12.4.127 in /usr/local/lib/python3.11/dist-packages (from torch>=1.11.0->sentence-transformers) (12.4.127)\n",
            "Requirement already satisfied: nvidia-nvjitlink-cu12==12.4.127 in /usr/local/lib/python3.11/dist-packages (from torch>=1.11.0->sentence-transformers) (12.4.127)\n",
            "Requirement already satisfied: triton==3.2.0 in /usr/local/lib/python3.11/dist-packages (from torch>=1.11.0->sentence-transformers) (3.2.0)\n",
            "Requirement already satisfied: mpmath<1.4,>=1.1.0 in /usr/local/lib/python3.11/dist-packages (from sympy->onnxruntime>=1.14.1->chromadb) (1.3.0)\n",
            "Requirement already satisfied: safetensors>=0.4.3 in /usr/local/lib/python3.11/dist-packages (from transformers<5.0.0,>=4.41.0->sentence-transformers) (0.5.3)\n",
            "Requirement already satisfied: shellingham>=1.3.0 in /usr/local/lib/python3.11/dist-packages (from typer>=0.9.0->chromadb) (1.5.4)\n",
            "Requirement already satisfied: httptools>=0.6.3 in /usr/local/lib/python3.11/dist-packages (from uvicorn[standard]>=0.18.3->chromadb) (0.6.4)\n",
            "Requirement already satisfied: python-dotenv>=0.13 in /usr/local/lib/python3.11/dist-packages (from uvicorn[standard]>=0.18.3->chromadb) (1.1.0)\n",
            "Requirement already satisfied: uvloop!=0.15.0,!=0.15.1,>=0.14.0 in /usr/local/lib/python3.11/dist-packages (from uvicorn[standard]>=0.18.3->chromadb) (0.21.0)\n",
            "Requirement already satisfied: watchfiles>=0.13 in /usr/local/lib/python3.11/dist-packages (from uvicorn[standard]>=0.18.3->chromadb) (1.0.5)\n",
            "Requirement already satisfied: websockets>=10.4 in /usr/local/lib/python3.11/dist-packages (from uvicorn[standard]>=0.18.3->chromadb) (15.0.1)\n",
            "Requirement already satisfied: threadpoolctl>=3.1.0 in /usr/local/lib/python3.11/dist-packages (from scikit-learn->sentence-transformers) (3.6.0)\n",
            "Requirement already satisfied: aiohappyeyeballs>=2.3.0 in /usr/local/lib/python3.11/dist-packages (from aiohttp<4,>=3.8.6->llama-index-core<0.13,>=0.12.35->llama-index) (2.6.1)\n",
            "Requirement already satisfied: aiosignal>=1.1.2 in /usr/local/lib/python3.11/dist-packages (from aiohttp<4,>=3.8.6->llama-index-core<0.13,>=0.12.35->llama-index) (1.3.2)\n",
            "Requirement already satisfied: frozenlist>=1.1.1 in /usr/local/lib/python3.11/dist-packages (from aiohttp<4,>=3.8.6->llama-index-core<0.13,>=0.12.35->llama-index) (1.6.0)\n",
            "Requirement already satisfied: multidict<7.0,>=4.5 in /usr/local/lib/python3.11/dist-packages (from aiohttp<4,>=3.8.6->llama-index-core<0.13,>=0.12.35->llama-index) (6.4.3)\n",
            "Requirement already satisfied: propcache>=0.2.0 in /usr/local/lib/python3.11/dist-packages (from aiohttp<4,>=3.8.6->llama-index-core<0.13,>=0.12.35->llama-index) (0.3.1)\n",
            "Requirement already satisfied: yarl<2.0,>=1.17.0 in /usr/local/lib/python3.11/dist-packages (from aiohttp<4,>=3.8.6->llama-index-core<0.13,>=0.12.35->llama-index) (1.20.0)\n",
            "Requirement already satisfied: griffe in /usr/local/lib/python3.11/dist-packages (from banks<3,>=2.0.0->llama-index-core<0.13,>=0.12.35->llama-index) (1.7.3)\n",
            "Requirement already satisfied: platformdirs in /usr/local/lib/python3.11/dist-packages (from banks<3,>=2.0.0->llama-index-core<0.13,>=0.12.35->llama-index) (4.3.8)\n",
            "Requirement already satisfied: soupsieve>1.2 in /usr/local/lib/python3.11/dist-packages (from beautifulsoup4<5.0.0,>=4.12.3->llama-index-readers-file<0.5,>=0.4.0->llama-index) (2.7)\n",
            "Requirement already satisfied: cachetools<6.0,>=2.0.0 in /usr/local/lib/python3.11/dist-packages (from google-auth>=1.0.1->kubernetes>=28.1.0->chromadb) (5.5.2)\n",
            "Requirement already satisfied: pyasn1-modules>=0.2.1 in /usr/local/lib/python3.11/dist-packages (from google-auth>=1.0.1->kubernetes>=28.1.0->chromadb) (0.4.2)\n",
            "Requirement already satisfied: rsa<5,>=3.1.4 in /usr/local/lib/python3.11/dist-packages (from google-auth>=1.0.1->kubernetes>=28.1.0->chromadb) (4.9.1)\n",
            "Requirement already satisfied: zipp>=0.5 in /usr/local/lib/python3.11/dist-packages (from importlib-metadata<8.7.0,>=6.0->opentelemetry-api>=1.2.0->chromadb) (3.21.0)\n",
            "Requirement already satisfied: llama-cloud-services>=0.6.22 in /usr/local/lib/python3.11/dist-packages (from llama-parse>=0.5.0->llama-index-readers-llama-parse>=0.4.0->llama-index) (0.6.22)\n",
            "Requirement already satisfied: mdurl~=0.1 in /usr/local/lib/python3.11/dist-packages (from markdown-it-py>=2.2.0->rich>=10.11.0->chromadb) (0.1.2)\n",
            "Requirement already satisfied: jiter<1,>=0.4.0 in /usr/local/lib/python3.11/dist-packages (from openai>=1.14.0->llama-index-agent-openai<0.5,>=0.4.0->llama-index) (0.9.0)\n",
            "Requirement already satisfied: sniffio in /usr/local/lib/python3.11/dist-packages (from openai>=1.14.0->llama-index-agent-openai<0.5,>=0.4.0->llama-index) (1.3.1)\n",
            "Requirement already satisfied: charset-normalizer<4,>=2 in /usr/local/lib/python3.11/dist-packages (from requests->huggingface-hub>=0.20.0->sentence-transformers) (3.4.2)\n",
            "Requirement already satisfied: greenlet>=1 in /usr/local/lib/python3.11/dist-packages (from sqlalchemy>=1.4.49->sqlalchemy[asyncio]>=1.4.49->llama-index-core<0.13,>=0.12.35->llama-index) (3.2.1)\n",
            "Requirement already satisfied: mypy-extensions>=0.3.0 in /usr/local/lib/python3.11/dist-packages (from typing-inspect>=0.8.0->llama-index-core<0.13,>=0.12.35->llama-index) (1.1.0)\n",
            "Requirement already satisfied: humanfriendly>=9.1 in /usr/local/lib/python3.11/dist-packages (from coloredlogs->onnxruntime>=1.14.1->chromadb) (10.0)\n",
            "Requirement already satisfied: marshmallow<4.0.0,>=3.18.0 in /usr/local/lib/python3.11/dist-packages (from dataclasses-json->llama-index-core<0.13,>=0.12.35->llama-index) (3.26.1)\n",
            "Requirement already satisfied: MarkupSafe>=2.0 in /usr/local/lib/python3.11/dist-packages (from jinja2->torch>=1.11.0->sentence-transformers) (3.0.2)\n",
            "Requirement already satisfied: pytz>=2020.1 in /usr/local/lib/python3.11/dist-packages (from pandas->llama-index-readers-file<0.5,>=0.4.0->llama-index) (2025.2)\n",
            "Requirement already satisfied: tzdata>=2022.7 in /usr/local/lib/python3.11/dist-packages (from pandas->llama-index-readers-file<0.5,>=0.4.0->llama-index) (2025.2)\n",
            "Requirement already satisfied: pyasn1<0.7.0,>=0.6.1 in /usr/local/lib/python3.11/dist-packages (from pyasn1-modules>=0.2.1->google-auth>=1.0.1->kubernetes>=28.1.0->chromadb) (0.6.1)\n",
            "Requirement already satisfied: colorama>=0.4 in /usr/local/lib/python3.11/dist-packages (from griffe->banks<3,>=2.0.0->llama-index-core<0.13,>=0.12.35->llama-index) (0.4.6)\n"
          ]
        }
      ],
      "source": [
        "!pip install -q -U llama-index chromadb sentence-transformers\n"
      ]
    },
    {
      "cell_type": "code",
      "execution_count": null,
      "metadata": {
        "id": "TGNeQhjXDnWf"
      },
      "outputs": [],
      "source": [
        "index = VectorStoreIndex.from_documents(\n",
        "    documents,\n",
        "    storage_context=storage_context,\n",
        "    embed_model=embed_model  # <- isso resolve o fallback pro OpenAI\n",
        ")\n"
      ]
    },
    {
      "cell_type": "code",
      "execution_count": null,
      "metadata": {
        "id": "KF_ttI84MPcz"
      },
      "outputs": [],
      "source": [
        "#Pega k valores mais proximos\n",
        "query_engine = index.as_query_engine(similarity_top_k =2, llm=llm)"
      ]
    },
    {
      "cell_type": "code",
      "execution_count": null,
      "metadata": {
        "id": "Dg5CxzqmMb80"
      },
      "outputs": [],
      "source": [
        "response = query_engine.query(\"Livros de romance\").response"
      ]
    },
    {
      "cell_type": "code",
      "execution_count": null,
      "metadata": {
        "colab": {
          "base_uri": "https://localhost:8080/"
        },
        "id": "P3R3D7ytMzw2",
        "outputId": "3b922aa1-15e7-452a-d9ac-0bb3e9dbe8d3"
      },
      "outputs": [
        {
          "name": "stdout",
          "output_type": "stream",
          "text": [
            "MIL VEZES AMOR, O beijo da neve\n"
          ]
        }
      ],
      "source": [
        "print(response)"
      ]
    },
    {
      "cell_type": "markdown",
      "metadata": {
        "id": "59o1amhSOVQK"
      },
      "source": [
        "###Deixando a Pipeline mais manual"
      ]
    },
    {
      "cell_type": "code",
      "execution_count": null,
      "metadata": {
        "id": "rsO9WVhhMz6W"
      },
      "outputs": [],
      "source": [
        "#Requisição\n",
        "query_str = \"Livros de romance\""
      ]
    },
    {
      "cell_type": "code",
      "execution_count": null,
      "metadata": {
        "id": "AIIms1hGM0AX"
      },
      "outputs": [],
      "source": [
        "#Transformar a query em vetor\n",
        "query_embeded = embed_model.get_text_embedding(query_str)"
      ]
    },
    {
      "cell_type": "code",
      "execution_count": null,
      "metadata": {
        "colab": {
          "base_uri": "https://localhost:8080/"
        },
        "id": "XTzjhBmaP7t5",
        "outputId": "d8a383c0-261d-42ca-dbd2-b5edd18631e5"
      },
      "outputs": [
        {
          "data": {
            "text/plain": [
              "{'ids': [['1573f3e1-b667-4397-914c-a4145407d411',\n",
              "   'c7025edd-a15c-41ad-907e-bd1d039424e4']],\n",
              " 'embeddings': [array([[-0.00622295, -0.01333515, -0.00671215, ...,  0.00068629,\n",
              "          -0.0267529 ,  0.02804376],\n",
              "         [ 0.02669151,  0.00447348, -0.01994875, ...,  0.01011186,\n",
              "          -0.01325178,  0.02376987]])],\n",
              " 'documents': None,\n",
              " 'uris': None,\n",
              " 'included': ['distances', 'embeddings'],\n",
              " 'data': None,\n",
              " 'metadatas': None,\n",
              " 'distances': [[0.3523901700973511, 0.3644893765449524]]}"
            ]
          },
          "execution_count": 105,
          "metadata": {},
          "output_type": "execute_result"
        }
      ],
      "source": [
        "#Procura na base vetorial a query e n resultados, distances e embeddings(vetores)\n",
        "chroma_collection.query(query_embeded,\n",
        "                        n_results=2,\n",
        "                        include=['distances','embeddings'])\n",
        "#Retorna os vetores mais proximos"
      ]
    },
    {
      "cell_type": "code",
      "execution_count": null,
      "metadata": {
        "colab": {
          "base_uri": "https://localhost:8080/"
        },
        "id": "vjYwSpYpP772",
        "outputId": "9c97a713-d270-4068-a19a-9e21594771aa"
      },
      "outputs": [
        {
          "name": "stdout",
          "output_type": "stream",
          "text": [
            "Total de IDs: 74\n",
            "Amostra de IDs: ['dd504ef3-11a5-4914-be6a-19f72b69579b', 'bdd5640c-cfba-4de1-a86c-e7e58f4db97c', '6815aa50-8946-4c66-8d6c-c93b7d16a691', 'c7025edd-a15c-41ad-907e-bd1d039424e4', 'db1ee1dd-62d9-4790-afd1-f2afb7ba6231']\n"
          ]
        }
      ],
      "source": [
        "#Pega os Ids dos vetores do banco\n",
        "docs_ids = chroma_collection.get()['ids']\n",
        "print(f\"Total de IDs: {len(docs_ids)}\")\n",
        "print(\"Amostra de IDs:\", docs_ids[:5])"
      ]
    },
    {
      "cell_type": "code",
      "execution_count": null,
      "metadata": {
        "colab": {
          "base_uri": "https://localhost:8080/"
        },
        "collapsed": true,
        "id": "nMUb1qZVP8A7",
        "outputId": "018c9d24-80a7-4f6b-d1cb-666589c3e24f"
      },
      "outputs": [
        {
          "data": {
            "text/plain": [
              "{'ids': ['dd504ef3-11a5-4914-be6a-19f72b69579b'],\n",
              " 'embeddings': None,\n",
              " 'documents': ['É ASSIM QUE COMEÇA (EDIÇÃO DE COLECIONADOR), Romances, Todo final tem um começo. Agora em uma edição especial de colecionador, com pintura trilateral e exclusiva para o Brasil, conheça a sequência de \\n                        É assim que acaba\\n                        . Da autora best-seller mundial e fenômeno editorial Colleen Hoover, que já vendeu mais de dois milhões de livros no país.\\n                    \\n                \\n                \\n                \\xa0\\n                \\n                Lily Bloom continua administrado uma floricultura. Seu ex-marido abusivo, Ryle Kincaid, ainda é um cirurgião. Mas agora os dois estão oficialmente divorciados e dividem a guarda da filha, Emerson.\\n                \\n                Quando Lily esbarra em Atlas — com quem não fala há quase dois anos —, é inegável que os dois podem retomar o relacionamento da adolescência, já que ele também está solteiro e parece corresponder seus sentimentos. Mas apesar de estar divorciada, Lily não está exatamente livre de Ryle. Culpando Atlas pelo fim de seu casamento, o ex-marido não está nada disposto a aceitar o novo relacionamento de Lily, principalmente no que diz respeito a Atlas, o último homem que aceitaria ver perto de sua filha e da ex-esposa.\\n                \\n                \\n                    Alternando entre as perspectivas de Altas e Lily, \\n                    É assim que começa\\n                     segue o epílogo do fenômeno editorial \\n                    É assim que acaba\\n                    . Revelando mais sobre o passado de Atlas e acompanhando Lily abraçar uma segunda chance no amor enquanto lida com um ex-marido ciumento, \\n                    É assim que começa\\n                     prova que ninguém entrega uma leitura mais emocionante do que Colleen Hoover.\\n                \\n                \\n                \\xa0\\n                \\n                \\n                    “Em uma história permeada de tensão com lampejos de esperança, Hoover captura perfeitamente as dores de um coração partido e a felicidade de começar de novo.” — \\n                    Kirkus Review, R$ 94,90\\nTUDO É RIO, Romances, nan, R$ 71,39\\nVERITY (EDIÇÃO DE COLECIONADOR), Suspenses, Um casal apaixonado. Uma intrusa. Três mentes doentias. Agora em uma edição especial de colecionador com capítulo extra inédito, conheça o thriller de estreia de Colleen Hoover, que se tornou um fenômeno editorial e best-seller mundial.\\n                \\n                \\n                \\xa0\\n                \\n                Verity Crawford é a autora best-seller por trás de uma série de sucesso. Ela está no auge de sua carreira, aclamada pela crítica e pelo público, no entanto, um súbito e terrível acidente acaba interrompendo suas atividades, deixando-a sem condições de concluir a história... E é nessa complexa circunstância que surge Lowen Ashleigh, uma escritora à beira da falência convidada a escrever, sob um pseudônimo, os três livros restantes da já consolidada série.\\n                \\n                Para que consiga entender melhor o processo criativo de Verity com relação aos livros publicados e, ainda, tentar descobrir seus possíveis planos para os próximos, Lowen decide passar alguns dias na casa dos Crawford, imersa no caótico escritório de Verity - e, lá, encontra uma espécie de autobiografia onde a escritora narra os fatos acontecidos desde o dia em que conhece Jeremy, seu marido, até os instantes imediatamente anteriores a seu acidente - incluindo sua perspectiva sobre as tragédias ocorridas às filhas do casal.\\n                \\n                Quanto mais o tempo passa, mais Lowen se percebe envolvida em uma confusa rede de mentiras e segredos, e, lentamente, adquire sua própria posição no jogo psicológico que rodeia aquela casa. Emocional e fisicamente atraída por Jeremy, ela precisa decidir: expor uma versão que nem ele conhece sobre a própria esposa ou manter o sigilo dos escritos de Verity?'],\n",
              " 'uris': None,\n",
              " 'included': ['metadatas', 'documents'],\n",
              " 'data': None,\n",
              " 'metadatas': [{'file_size': 215008,\n",
              "   'document_id': '775e2e0f-cc7d-4382-9e96-b00c6eb3accd',\n",
              "   'file_path': '/content/drive/MyDrive/ALURA/RAG/LlamaIndex: integração de LLMs com bancos de dados vetoriais/CSV/livros_mais_vendidos.csv',\n",
              "   'creation_date': '2025-05-13',\n",
              "   'file_type': 'text/csv',\n",
              "   '_node_content': '{\"id_\": \"dd504ef3-11a5-4914-be6a-19f72b69579b\", \"embedding\": null, \"metadata\": {\"file_path\": \"/content/drive/MyDrive/ALURA/RAG/LlamaIndex: integrac\\\\u0327a\\\\u0303o de LLMs com bancos de dados vetoriais/CSV/livros_mais_vendidos.csv\", \"file_name\": \"livros_mais_vendidos.csv\", \"file_type\": \"text/csv\", \"file_size\": 215008, \"creation_date\": \"2025-05-13\", \"last_modified_date\": \"2025-05-07\"}, \"excluded_embed_metadata_keys\": [\"file_name\", \"file_type\", \"file_size\", \"creation_date\", \"last_modified_date\", \"last_accessed_date\"], \"excluded_llm_metadata_keys\": [\"file_name\", \"file_type\", \"file_size\", \"creation_date\", \"last_modified_date\", \"last_accessed_date\"], \"relationships\": {\"1\": {\"node_id\": \"775e2e0f-cc7d-4382-9e96-b00c6eb3accd\", \"node_type\": \"4\", \"metadata\": {\"file_path\": \"/content/drive/MyDrive/ALURA/RAG/LlamaIndex: integrac\\\\u0327a\\\\u0303o de LLMs com bancos de dados vetoriais/CSV/livros_mais_vendidos.csv\", \"file_name\": \"livros_mais_vendidos.csv\", \"file_type\": \"text/csv\", \"file_size\": 215008, \"creation_date\": \"2025-05-13\", \"last_modified_date\": \"2025-05-07\"}, \"hash\": \"04009b4b0572716b3a064c81a1736366f9d3656b877a9bf04d2bb241443eca57\", \"class_name\": \"RelatedNodeInfo\"}, \"3\": {\"node_id\": \"bdd5640c-cfba-4de1-a86c-e7e58f4db97c\", \"node_type\": \"1\", \"metadata\": {}, \"hash\": \"e135b9a16ef599adf1d07e4877e9ce4723f9b42ceacfd83c12a2a80a15137770\", \"class_name\": \"RelatedNodeInfo\"}}, \"metadata_template\": \"{key}: {value}\", \"metadata_separator\": \"\\\\n\", \"text\": \"\", \"mimetype\": \"text/plain\", \"start_char_idx\": 0, \"end_char_idx\": 3906, \"metadata_seperator\": \"\\\\n\", \"text_template\": \"{metadata_str}\\\\n\\\\n{content}\", \"class_name\": \"TextNode\"}',\n",
              "   '_node_type': 'TextNode',\n",
              "   'doc_id': '775e2e0f-cc7d-4382-9e96-b00c6eb3accd',\n",
              "   'file_name': 'livros_mais_vendidos.csv',\n",
              "   'ref_doc_id': '775e2e0f-cc7d-4382-9e96-b00c6eb3accd',\n",
              "   'last_modified_date': '2025-05-07'}]}"
            ]
          },
          "execution_count": 108,
          "metadata": {},
          "output_type": "execute_result"
        }
      ],
      "source": [
        "chroma_collection.get('dd504ef3-11a5-4914-be6a-19f72b69579b')"
      ]
    },
    {
      "cell_type": "markdown",
      "metadata": {
        "id": "ela1VA3PV73x"
      },
      "source": [
        "#Nova Fonte de Dados"
      ]
    },
    {
      "cell_type": "code",
      "execution_count": null,
      "metadata": {
        "id": "sUXRdlqpVYFa"
      },
      "outputs": [],
      "source": [
        "novos_documentos = SimpleDirectoryReader(\"/content/drive/MyDrive/ALURA/RAG/LlamaIndex: integração de LLMs com bancos de dados vetoriais/Artigos\")\\\n",
        "                    .load_data()"
      ]
    },
    {
      "cell_type": "code",
      "execution_count": null,
      "metadata": {
        "id": "PHBE2zPXV_FB"
      },
      "outputs": [],
      "source": [
        "#Aumentando nossa Base de dados\n",
        "for doc in novos_documentos:\n",
        "  index.insert(doc)"
      ]
    },
    {
      "cell_type": "code",
      "execution_count": null,
      "metadata": {
        "colab": {
          "base_uri": "https://localhost:8080/"
        },
        "id": "sAgmdd5BZvHZ",
        "outputId": "1dc121b0-3569-4d6d-e277-3cc5d341fefd"
      },
      "outputs": [
        {
          "name": "stdout",
          "output_type": "stream",
          "text": [
            "Total de IDs: 115\n"
          ]
        }
      ],
      "source": [
        "#Pega os Ids dos vetores do banco\n",
        "docs_ids = chroma_collection.get()['ids']\n",
        "print(f\"Total de IDs: {len(docs_ids)}\")"
      ]
    },
    {
      "cell_type": "code",
      "execution_count": null,
      "metadata": {
        "id": "bCqtwusrZ5Gk"
      },
      "outputs": [],
      "source": [
        "query_str = \"Livros de romance\""
      ]
    },
    {
      "cell_type": "code",
      "execution_count": null,
      "metadata": {
        "id": "k1FJNr-EZ8Nl"
      },
      "outputs": [],
      "source": [
        "query_embeded = embed_model.get_text_embedding(query_str)"
      ]
    },
    {
      "cell_type": "code",
      "execution_count": null,
      "metadata": {
        "colab": {
          "base_uri": "https://localhost:8080/"
        },
        "id": "odyM_cLjZ-sz",
        "outputId": "9808a959-05ed-4e3d-f9ec-cb8e469a71f4"
      },
      "outputs": [
        {
          "data": {
            "text/plain": [
              "{'ids': [['1573f3e1-b667-4397-914c-a4145407d411',\n",
              "   '31dcff52-e63d-479f-8a24-7f9bd6e31f6d',\n",
              "   'c7025edd-a15c-41ad-907e-bd1d039424e4',\n",
              "   '39bbb6ca-8cae-44e8-ab7c-1afb61188aeb',\n",
              "   'f3dd4231-7381-4a51-bacb-67bd39bcfea7',\n",
              "   'c06d81d9-d270-4f11-9f75-7a18c692586c',\n",
              "   '1c0c223a-ddef-4c77-b4f6-d1a418dfe8e8',\n",
              "   '7d4b28b8-f7be-428c-9986-279cb146edd9',\n",
              "   '9043e147-8758-42a5-b384-6c94f9c7b7d1',\n",
              "   '063c6108-2290-4af7-9a52-9dda7c3c9efb']],\n",
              " 'embeddings': [array([[-0.00622295, -0.01333515, -0.00671215, ...,  0.00068629,\n",
              "          -0.0267529 ,  0.02804376],\n",
              "         [ 0.01320377, -0.00598665, -0.00690249, ...,  0.00669324,\n",
              "          -0.01343982,  0.02290541],\n",
              "         [ 0.02669151,  0.00447348, -0.01994875, ...,  0.01011186,\n",
              "          -0.01325178,  0.02376987],\n",
              "         ...,\n",
              "         [-0.00516095,  0.00817296, -0.01229951, ..., -0.00748101,\n",
              "          -0.02628861,  0.00704401],\n",
              "         [-0.01221313, -0.01768972, -0.03115581, ..., -0.01168021,\n",
              "          -0.01994418,  0.01225521],\n",
              "         [ 0.00320257,  0.00210693,  0.0005586 , ..., -0.00421814,\n",
              "          -0.01082552,  0.01371634]])],\n",
              " 'documents': None,\n",
              " 'uris': None,\n",
              " 'included': ['distances', 'embeddings'],\n",
              " 'data': None,\n",
              " 'metadatas': None,\n",
              " 'distances': [[0.3523901700973511,\n",
              "   0.3564459979534149,\n",
              "   0.3644893765449524,\n",
              "   0.365169495344162,\n",
              "   0.36604437232017517,\n",
              "   0.36651143431663513,\n",
              "   0.3676963746547699,\n",
              "   0.3685727119445801,\n",
              "   0.37115469574928284,\n",
              "   0.37136033177375793]]}"
            ]
          },
          "execution_count": 115,
          "metadata": {},
          "output_type": "execute_result"
        }
      ],
      "source": [
        "#Procura na base vetorial a query e n resultados, distances e embeddings(vetores)\n",
        "chroma_collection.query(query_embeded,\n",
        "                        n_results=10,\n",
        "                        include=['distances','embeddings'])\n",
        "#Retorna os vetores mais proximos"
      ]
    },
    {
      "cell_type": "markdown",
      "metadata": {
        "id": "b11VJxZybrxK"
      },
      "source": [
        "###Criando nosso prompt"
      ]
    },
    {
      "cell_type": "code",
      "execution_count": null,
      "metadata": {
        "id": "rx8_XscEaDkc"
      },
      "outputs": [],
      "source": [
        "#Retriver sendo do index\n",
        "retriever = index.as_retriever()"
      ]
    },
    {
      "cell_type": "code",
      "execution_count": null,
      "metadata": {
        "id": "46Na0FJMbKW1"
      },
      "outputs": [],
      "source": [
        "from llama_index.core import get_response_synthesizer"
      ]
    },
    {
      "cell_type": "code",
      "execution_count": null,
      "metadata": {
        "id": "uDT-jnmCbKSz"
      },
      "outputs": [],
      "source": [
        "synthesizer = get_response_synthesizer(response_mode=\"compact\",llm=llm)"
      ]
    },
    {
      "cell_type": "code",
      "execution_count": null,
      "metadata": {
        "id": "s16uP4z7bKat"
      },
      "outputs": [],
      "source": [
        "from llama_index.core import PromptTemplate"
      ]
    },
    {
      "cell_type": "code",
      "execution_count": null,
      "metadata": {
        "id": "BEApkiuHbwzN"
      },
      "outputs": [],
      "source": [
        "#Formato de Resposta que queremos\n",
        "qa_prompt = PromptTemplate(\n",
        "    #Padrão do llama\n",
        "    \"Context information is below.\\n\"\n",
        "    \"---------------------\\n\"\n",
        "    \"{context_str}\\n\"\n",
        "    \"---------------------\\n\"\n",
        "    \"Given the context information and not prior knowledge, \"\n",
        "    \"answer the query.\\n\"\n",
        "    #Personalizado\n",
        "    \"Responda em português.\\n\"\n",
        "    \"\"\"Somente responda em json\n",
        "      Formato resposta em json\n",
        "      {\"data\":{\n",
        "        \"livros\": [\n",
        "          {\n",
        "            \"titulo\": \"Titulo do livro\n",
        "            \"categoria\": \"Categoria do livro\"\n",
        "            \"Justificativa\" \"Porque recomenda\"\n",
        "          }\n",
        "        ]\n",
        "      }}\n",
        "\n",
        "      Só recomende livros dessa base de dados\"\"\"\n",
        "    \"Query: {query_str}\\n\"\n",
        "    \"Answer: \"\n",
        ")"
      ]
    },
    {
      "cell_type": "code",
      "execution_count": null,
      "metadata": {
        "id": "Z29xesi_bzzb"
      },
      "outputs": [],
      "source": [
        "from llama_index.core.query_engine  import CustomQueryEngine\n",
        "from llama_index.core.retrievers import BaseRetriever\n",
        "from llama_index.core.response_synthesizers import BaseSynthesizer"
      ]
    },
    {
      "cell_type": "code",
      "execution_count": null,
      "metadata": {
        "id": "8YPypY4uiAn1"
      },
      "outputs": [],
      "source": [
        "#Classe personalizada que Herda da do próprio llama\n",
        "class RAGStringQueryEngine(CustomQueryEngine):\n",
        "    #Parametros\n",
        "    retriever: BaseRetriever\n",
        "    response_synthesizer: BaseSynthesizer\n",
        "    llm: Groq\n",
        "    qa_prompt: PromptTemplate\n",
        "    #Query personalizada\n",
        "    def custom_query(self, query_str: str):\n",
        "        #Extrai do Banco vetorial as infos da relevantes para nosso contexto\n",
        "        nodes = self.retriever.retrieve(query_str)\n",
        "        #Juntar isso com nosso prompt\n",
        "        context_str = \"\\n\\n\".join([n.node.get_content() for n in nodes])\n",
        "        #Passa para a LLM e salva as respostas\n",
        "        response = self.llm.complete(\n",
        "            self.qa_prompt.format(context_str=context_str, query_str=query_str)\n",
        "        )\n",
        "\n",
        "        return str(response)"
      ]
    },
    {
      "cell_type": "code",
      "execution_count": null,
      "metadata": {
        "id": "rvlTwo2vi1bR"
      },
      "outputs": [],
      "source": [
        "query_engine_customize = RAGStringQueryEngine(\n",
        "    retriever=retriever,\n",
        "    response_synthesizer=synthesizer,\n",
        "    llm=llm,\n",
        "    qa_prompt=qa_prompt\n",
        ")"
      ]
    },
    {
      "cell_type": "code",
      "execution_count": null,
      "metadata": {
        "colab": {
          "base_uri": "https://localhost:8080/"
        },
        "id": "22t4nsKujC2-",
        "outputId": "274582a8-cba9-4cd6-f034-fccf643c4d81"
      },
      "outputs": [
        {
          "name": "stdout",
          "output_type": "stream",
          "text": [
            "{\"data\":{\n",
            "  \"livros\": [\n",
            "    {\n",
            "      \"titulo\": \"É ASSIM QUE COMEÇA (EDIÇÃO DE COLECIONADOR)\",\n",
            "      \"categoria\": \"Romance\",\n",
            "      \"Justificativa\": \"Para aqueles que buscam uma história de amor mais tradicional\"\n",
            "    },\n",
            "    {\n",
            "      \"titulo\": \"TUDO É RIO\",\n",
            "      \"categoria\": \"Romance\",\n",
            "      \"Justificativa\": \"Para quem busca uma história mais leve e divertida\"\n",
            "    },\n",
            "    {\n",
            "      \"titulo\": \"TÁTICAS DO AMOR\",\n",
            "      \"categoria\": \"Romance\",\n",
            "      \"Justificativa\": \"Para quem busca uma história mais leve e divertida\"\n",
            "    },\n",
            "    {\n",
            "      \"titulo\": \"NEM TE CONTO\",\n",
            "      \"categoria\": \"Romance\",\n",
            "      \"Justificativa\": \"Para aqueles que preferem histórias mais intensas e emocionantes\"\n",
            "    },\n",
            "    {\n",
            "      \"titulo\": \"O BEIJO DA NEVE\",\n",
            "      \"categoria\": \"Romance\",\n",
            "      \"Justificativa\": \"Para aqueles que preferem histórias mais intensas e emocionantes\"\n",
            "    },\n",
            "    {\n",
            "      \"titulo\": \"EU E ESSE MEU CORAÇÃO\",\n",
            "      \"categoria\": \"Romance\",\n",
            "      \"Justificativa\": \"Para aqueles que preferem histórias mais intensas e emocionantes\"\n",
            "    },\n",
            "    {\n",
            "      \"titulo\": \"UMA SEGUNDA CHANCE (FENÔMENO DO TIKTOK)\",\n",
            "      \"categoria\": \"Romance\",\n",
            "      \"Justificativa\": \"Para os amantes de uma boa história de amor com um toque de drama\"\n",
            "    },\n",
            "    {\n",
            "      \"titulo\": \"A BIBLIOTECA DA MEIA-NOITE\",\n",
            "      \"categoria\": \"Romance\",\n",
            "      \"Justificativa\": \"Para quem busca uma história de amor com um toque de mistério\"\n",
            "    },\n",
            "    {\n",
            "      \"titulo\": \"MIL VEZES AMOR\",\n",
            "      \"categoria\": \"Romance\",\n",
            "      \"Justificativa\": \"Ideal para fãs de comédia romântica\"\n",
            "    }\n",
            "  ]\n",
            "}}\n"
          ]
        }
      ],
      "source": [
        "resposta = query_engine_customize.query(\"Quais livros de Romance\").response\n",
        "print(resposta)"
      ]
    },
    {
      "cell_type": "code",
      "execution_count": null,
      "metadata": {
        "id": "iN4F03AojN2h"
      },
      "outputs": [],
      "source": [
        "resposta_json = json.loads(resposta)"
      ]
    },
    {
      "cell_type": "code",
      "execution_count": null,
      "metadata": {
        "id": "xAgfTYnSjosS"
      },
      "outputs": [],
      "source": [
        "for livro in resposta_json['data']['livros']:\n",
        "  titulo = livro['titulo'].upper()\n",
        "\n",
        "  if df.query(\"nome == @titulo\").empty:\n",
        "    print(f\"Livro {titulo} não encontrado\")"
      ]
    },
    {
      "cell_type": "markdown",
      "metadata": {
        "id": "wtMDgvigkf0E"
      },
      "source": []
    },
    {
      "cell_type": "markdown",
      "metadata": {
        "id": "faA22fP3kMtV"
      },
      "source": [
        "#Estruturando MVP"
      ]
    },
    {
      "cell_type": "markdown",
      "metadata": {
        "id": "mIeerhRMkQG0"
      },
      "source": [
        "##Preparando Pipeline"
      ]
    },
    {
      "cell_type": "code",
      "execution_count": null,
      "metadata": {
        "id": "y0x__NCVkPWA"
      },
      "outputs": [],
      "source": [
        "def validando(resposta_json):\n",
        "  for livro in resposta_json['data']['livros']:\n",
        "    titulo = livro['titulo'].upper()\n",
        "\n",
        "  if df.query(\"nome == @titulo\").empty:\n",
        "    raise Exception(f\"Livro {titulo} não encontrado\")"
      ]
    },
    {
      "cell_type": "code",
      "execution_count": null,
      "metadata": {
        "id": "BKBozYdikSxo"
      },
      "outputs": [],
      "source": [
        "def formatando_respostas(response,consulta):\n",
        "    prompt = f'''\n",
        "    Formate a resposta para o usuario\n",
        "    Sua persona é um atendente da empresa buscante que vai recomendar livros usando a consulta do usuario como referencia\n",
        "    E recomendar somente esses livros que estão em response\n",
        "    consulta: {consulta}\n",
        "    response: {response}\n",
        "    '''\n",
        "\n",
        "    resposta_final = llm.complete(prompt=prompt).text\n",
        "    return resposta_final"
      ]
    },
    {
      "cell_type": "code",
      "execution_count": null,
      "metadata": {
        "id": "jHmH9HNhk1RO"
      },
      "outputs": [],
      "source": [
        "def pipeline_completo(consulta):\n",
        "  response = query_engine_customize.query(consulta).response\n",
        "  resposta_json = json.loads(response)\n",
        "\n",
        "  validando(resposta_json)\n",
        "\n",
        "  response = formatando_respostas(response,consulta)\n",
        "\n",
        "  return str(response)"
      ]
    },
    {
      "cell_type": "code",
      "execution_count": null,
      "metadata": {
        "colab": {
          "base_uri": "https://localhost:8080/"
        },
        "id": "guqmSCdTniUr",
        "outputId": "04d0517b-fb05-414d-c0c4-750f6f080cfd"
      },
      "outputs": [
        {
          "name": "stdout",
          "output_type": "stream",
          "text": [
            "Olá!\n",
            "\n",
            "Você está procurando por livros de Romance, certo?\n",
            "\n",
            "Bem, eu tenho algumas sugestões incríveis para você!\n",
            "\n",
            "**Para aqueles que buscam uma história de amor mais tradicional:**\n",
            "Você vai adorar \"É ASSIM QUE COMEÇA\"!\n",
            "\n",
            "**Para quem busca uma história mais leve e divertida:**\n",
            "Você vai se divertir com \"TUDO É RIO\" e \"TÁTICAS DO AMOR\" são outras opções incríveis!\n",
            "\n",
            "**Para aqueles que preferem histórias mais intensas e emocionantes:**\n",
            "Você vai se emocionar com \"NEM TE CONTO\", \"O BEIJO DA NEVE\" e \"EU E ESSE MEU CORAÇÃO\"!\n",
            "\n",
            "**Para os amantes de uma boa história de amor com um toque de drama:**\n",
            "Você vai amar \"UMA SEGUNDA CHANCE (FENÔMENO DO TIKTOK)\"!\n",
            "\n",
            "**Para quem busca uma história de amor com um toque de mistério:**\n",
            "Você vai se surpreender com \"A BIBLIOTECA DA MEIA-NOITE\"!\n",
            "\n",
            "**Ideal para fãs de comédia romântica:**\n",
            "Você vai se divertir com \"MIL VEZES AMOR\"!\n",
            "\n",
            "Espero que essas sugestões tenham ajudado! Qual é o seu próximo livro de Romance?\n"
          ]
        }
      ],
      "source": [
        "#Testando:\n",
        "print(pipeline_completo(\"Quais livros de Romance\"))"
      ]
    },
    {
      "cell_type": "markdown",
      "metadata": {
        "id": "7_s8wU5poGqi"
      },
      "source": [
        "##Subindo Aplicação no Gradio"
      ]
    },
    {
      "cell_type": "code",
      "execution_count": null,
      "metadata": {
        "colab": {
          "base_uri": "https://localhost:8080/"
        },
        "id": "Ol90lSJrno1V",
        "outputId": "f96efb92-f4cf-40d5-edbb-796ac9a69207"
      },
      "outputs": [
        {
          "name": "stdout",
          "output_type": "stream",
          "text": [
            "\u001b[2K   \u001b[90m━━━━━━━━━━━━━━━━━━━━━━━━━━━━━━━━━━━━━━━━\u001b[0m \u001b[32m54.1/54.1 MB\u001b[0m \u001b[31m10.5 MB/s\u001b[0m eta \u001b[36m0:00:00\u001b[0m\n",
            "\u001b[2K   \u001b[90m━━━━━━━━━━━━━━━━━━━━━━━━━━━━━━━━━━━━━━━━\u001b[0m \u001b[32m322.9/322.9 kB\u001b[0m \u001b[31m15.5 MB/s\u001b[0m eta \u001b[36m0:00:00\u001b[0m\n",
            "\u001b[2K   \u001b[90m━━━━━━━━━━━━━━━━━━━━━━━━━━━━━━━━━━━━━━━━\u001b[0m \u001b[32m11.5/11.5 MB\u001b[0m \u001b[31m53.7 MB/s\u001b[0m eta \u001b[36m0:00:00\u001b[0m\n",
            "\u001b[?25h"
          ]
        }
      ],
      "source": [
        "!pip install -q gradio"
      ]
    },
    {
      "cell_type": "code",
      "execution_count": null,
      "metadata": {
        "id": "y-hpLzGXoM_N"
      },
      "outputs": [],
      "source": [
        "import gradio as gr"
      ]
    },
    {
      "cell_type": "code",
      "execution_count": null,
      "metadata": {
        "colab": {
          "background_save": true,
          "base_uri": "https://localhost:8080/",
          "height": 1000
        },
        "id": "nwyte1QRoQHP",
        "outputId": "8812ed65-c541-4a44-f1c0-91730242f886"
      },
      "outputs": [
        {
          "name": "stdout",
          "output_type": "stream",
          "text": [
            "It looks like you are running Gradio on a hosted a Jupyter notebook. For the Gradio app to work, sharing must be enabled. Automatically setting `share=True` (you can turn this off by setting `share=False` in `launch()` explicitly).\n",
            "\n",
            "Colab notebook detected. This cell will run indefinitely so that you can see errors and logs. To turn off, set debug=False in launch().\n",
            "* Running on public URL: https://40ef98bac668551f05.gradio.live\n",
            "\n",
            "This share link expires in 1 week. For free permanent hosting and GPU upgrades, run `gradio deploy` from the terminal in the working directory to deploy to Hugging Face Spaces (https://huggingface.co/spaces)\n"
          ]
        },
        {
          "data": {
            "text/html": [
              "<div><iframe src=\"https://40ef98bac668551f05.gradio.live\" width=\"100%\" height=\"500\" allow=\"autoplay; camera; microphone; clipboard-read; clipboard-write;\" frameborder=\"0\" allowfullscreen></iframe></div>"
            ],
            "text/plain": [
              "<IPython.core.display.HTML object>"
            ]
          },
          "metadata": {},
          "output_type": "display_data"
        },
        {
          "name": "stderr",
          "output_type": "stream",
          "text": [
            "Traceback (most recent call last):\n",
            "  File \"/usr/local/lib/python3.11/dist-packages/gradio/queueing.py\", line 625, in process_events\n",
            "    response = await route_utils.call_process_api(\n",
            "               ^^^^^^^^^^^^^^^^^^^^^^^^^^^^^^^^^^^\n",
            "  File \"/usr/local/lib/python3.11/dist-packages/gradio/route_utils.py\", line 322, in call_process_api\n",
            "    output = await app.get_blocks().process_api(\n",
            "             ^^^^^^^^^^^^^^^^^^^^^^^^^^^^^^^^^^^\n",
            "  File \"/usr/local/lib/python3.11/dist-packages/gradio/blocks.py\", line 2146, in process_api\n",
            "    result = await self.call_function(\n",
            "             ^^^^^^^^^^^^^^^^^^^^^^^^^\n",
            "  File \"/usr/local/lib/python3.11/dist-packages/gradio/blocks.py\", line 1664, in call_function\n",
            "    prediction = await anyio.to_thread.run_sync(  # type: ignore\n",
            "                 ^^^^^^^^^^^^^^^^^^^^^^^^^^^^^^^^^^^^^^^^^^^^^^^\n",
            "  File \"/usr/local/lib/python3.11/dist-packages/anyio/to_thread.py\", line 56, in run_sync\n",
            "    return await get_async_backend().run_sync_in_worker_thread(\n",
            "           ^^^^^^^^^^^^^^^^^^^^^^^^^^^^^^^^^^^^^^^^^^^^^^^^^^^^\n",
            "  File \"/usr/local/lib/python3.11/dist-packages/anyio/_backends/_asyncio.py\", line 2470, in run_sync_in_worker_thread\n",
            "    return await future\n",
            "           ^^^^^^^^^^^^\n",
            "  File \"/usr/local/lib/python3.11/dist-packages/anyio/_backends/_asyncio.py\", line 967, in run\n",
            "    result = context.run(func, *args)\n",
            "             ^^^^^^^^^^^^^^^^^^^^^^^^\n",
            "  File \"/usr/local/lib/python3.11/dist-packages/gradio/utils.py\", line 884, in wrapper\n",
            "    response = f(*args, **kwargs)\n",
            "               ^^^^^^^^^^^^^^^^^^\n",
            "  File \"<ipython-input-139-e425d81032a4>\", line 3, in pipeline_completo\n",
            "    resposta_json = json.loads(response)\n",
            "                    ^^^^^^^^^^^^^^^^^^^^\n",
            "  File \"/usr/lib/python3.11/json/__init__.py\", line 346, in loads\n",
            "    return _default_decoder.decode(s)\n",
            "           ^^^^^^^^^^^^^^^^^^^^^^^^^^\n",
            "  File \"/usr/lib/python3.11/json/decoder.py\", line 337, in decode\n",
            "    obj, end = self.raw_decode(s, idx=_w(s, 0).end())\n",
            "               ^^^^^^^^^^^^^^^^^^^^^^^^^^^^^^^^^^^^^^\n",
            "  File \"/usr/lib/python3.11/json/decoder.py\", line 353, in raw_decode\n",
            "    obj, end = self.scan_once(s, idx)\n",
            "               ^^^^^^^^^^^^^^^^^^^^^^\n",
            "json.decoder.JSONDecodeError: Expecting ',' delimiter: line 5 column 7 (char 98)\n"
          ]
        }
      ],
      "source": [
        "demo =gr.Interface(\n",
        "    fn = pipeline_completo,\n",
        "    inputs=['text'],\n",
        "    outputs=['text']\n",
        ")\n",
        "\n",
        "demo.launch(debug=True)"
      ]
    },
    {
      "cell_type": "code",
      "execution_count": null,
      "metadata": {
        "id": "uR-OG0R_oqTG"
      },
      "outputs": [],
      "source": []
    }
  ],
  "metadata": {
    "colab": {
      "provenance": [],
      "authorship_tag": "ABX9TyMvdMFthdu7zcrPfkq7aKip",
      "include_colab_link": true
    },
    "kernelspec": {
      "display_name": "Python 3",
      "name": "python3"
    },
    "language_info": {
      "name": "python"
    }
  },
  "nbformat": 4,
  "nbformat_minor": 0
}